{
 "cells": [
  {
   "cell_type": "code",
   "execution_count": 2,
   "id": "2bb2e0e6-ebb3-46e6-b0ec-c4f29a2b132a",
   "metadata": {},
   "outputs": [],
   "source": [
    "import numpy as np"
   ]
  },
  {
   "cell_type": "code",
   "execution_count": 6,
   "id": "7abea02f-40f2-44ae-83e3-5b16f9258909",
   "metadata": {},
   "outputs": [
    {
     "data": {
      "text/plain": [
       "0.019016400002854206"
      ]
     },
     "execution_count": 6,
     "metadata": {},
     "output_type": "execute_result"
    }
   ],
   "source": [
    "np.random.random()"
   ]
  },
  {
   "cell_type": "code",
   "execution_count": 10,
   "id": "c5abcb55-0d27-4910-98dd-1fb43cb4d083",
   "metadata": {},
   "outputs": [
    {
     "data": {
      "text/plain": [
       "0.3745401188473625"
      ]
     },
     "execution_count": 10,
     "metadata": {},
     "output_type": "execute_result"
    }
   ],
   "source": [
    "# get constant value using seed\n",
    "np.random.seed(42)\n",
    "np.random.random()"
   ]
  },
  {
   "cell_type": "code",
   "execution_count": 16,
   "id": "b00d2035-748c-48d2-b02a-a05b20d1d99d",
   "metadata": {},
   "outputs": [
    {
     "data": {
      "text/plain": [
       "9.655000144869414"
      ]
     },
     "execution_count": 16,
     "metadata": {},
     "output_type": "execute_result"
    }
   ],
   "source": [
    "#  random number in a given range\n",
    "np.random.uniform(3,10)"
   ]
  },
  {
   "cell_type": "code",
   "execution_count": null,
   "id": "85c826a3-6331-4c78-9c15-4c4263e904c7",
   "metadata": {},
   "outputs": [],
   "source": []
  }
 ],
 "metadata": {
  "kernelspec": {
   "display_name": "Python 3 (ipykernel)",
   "language": "python",
   "name": "python3"
  },
  "language_info": {
   "codemirror_mode": {
    "name": "ipython",
    "version": 3
   },
   "file_extension": ".py",
   "mimetype": "text/x-python",
   "name": "python",
   "nbconvert_exporter": "python",
   "pygments_lexer": "ipython3",
   "version": "3.11.7"
  }
 },
 "nbformat": 4,
 "nbformat_minor": 5
}
