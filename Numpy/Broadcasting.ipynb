{
 "cells": [
  {
   "cell_type": "code",
   "execution_count": 1,
   "id": "ea33e400-acbe-4484-a162-f9b1dc94403c",
   "metadata": {},
   "outputs": [],
   "source": [
    "import numpy as np"
   ]
  },
  {
   "cell_type": "code",
   "execution_count": 7,
   "id": "ef293eb6-4773-4b19-a047-1cb2315efe15",
   "metadata": {},
   "outputs": [
    {
     "name": "stdout",
     "output_type": "stream",
     "text": [
      "[0 1 2 3]\n",
      "\n",
      "\n",
      "[[ 0  1  2  3]\n",
      " [ 4  5  6  7]\n",
      " [ 8  9 10 11]\n",
      " [12 13 14 15]\n",
      " [16 17 18 19]]\n"
     ]
    }
   ],
   "source": [
    "ar1 = np.arange(4)\n",
    "ar2 = np.arange(20).reshape(5,4)\n",
    "\n",
    "print(ar1)\n",
    "print(\"\\n\")\n",
    "print(ar2)"
   ]
  },
  {
   "cell_type": "code",
   "execution_count": 11,
   "id": "0be8b3ad-a66d-4c10-bb10-cee408d6f06f",
   "metadata": {},
   "outputs": [
    {
     "data": {
      "text/plain": [
       "array([[ 0,  2,  4,  6],\n",
       "       [ 4,  6,  8, 10],\n",
       "       [ 8, 10, 12, 14],\n",
       "       [12, 14, 16, 18],\n",
       "       [16, 18, 20, 22]])"
      ]
     },
     "execution_count": 11,
     "metadata": {},
     "output_type": "execute_result"
    }
   ],
   "source": [
    "ar1 + ar2  # Broadcasting make the lower dimension array as higher dimension array\n",
    "            # as same value and perform the operation but atleast one dimension shall be\n",
    "            # same with other array"
   ]
  },
  {
   "cell_type": "code",
   "execution_count": 29,
   "id": "1c1ca186-6a61-49b1-acd6-ce13ab4e88cc",
   "metadata": {},
   "outputs": [
    {
     "name": "stdout",
     "output_type": "stream",
     "text": [
      "[[0 1]\n",
      " [2 3]\n",
      " [4 5]]\n",
      "\n",
      "\n",
      "[5 2]\n"
     ]
    }
   ],
   "source": [
    "ar3 = np.arange(6).reshape(3,2)\n",
    "ar4 = np.array([5,2])\n",
    "print(ar3)\n",
    "print(\"\\n\")\n",
    "print(ar4)"
   ]
  },
  {
   "cell_type": "code",
   "execution_count": 25,
   "id": "1c7e4fce-f3b3-495d-bfbe-05d661823491",
   "metadata": {},
   "outputs": [
    {
     "data": {
      "text/plain": [
       "array([[5, 3],\n",
       "       [7, 5],\n",
       "       [9, 7]])"
      ]
     },
     "execution_count": 25,
     "metadata": {},
     "output_type": "execute_result"
    }
   ],
   "source": [
    "ar3+ar4"
   ]
  },
  {
   "cell_type": "code",
   "execution_count": null,
   "id": "8b91748e-5747-45fc-bc46-13d44b826be0",
   "metadata": {},
   "outputs": [],
   "source": []
  }
 ],
 "metadata": {
  "kernelspec": {
   "display_name": "Python 3 (ipykernel)",
   "language": "python",
   "name": "python3"
  },
  "language_info": {
   "codemirror_mode": {
    "name": "ipython",
    "version": 3
   },
   "file_extension": ".py",
   "mimetype": "text/x-python",
   "name": "python",
   "nbconvert_exporter": "python",
   "pygments_lexer": "ipython3",
   "version": "3.11.7"
  }
 },
 "nbformat": 4,
 "nbformat_minor": 5
}
