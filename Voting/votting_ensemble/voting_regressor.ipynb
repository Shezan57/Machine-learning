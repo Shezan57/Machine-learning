{
 "cells": [
  {
   "cell_type": "code",
   "execution_count": 4,
   "id": "9543d04a-d2b9-4299-8ec2-c97110b15c16",
   "metadata": {},
   "outputs": [],
   "source": [
    "from sklearn.datasets import load_diabetes\n",
    "import numpy as np"
   ]
  },
  {
   "cell_type": "code",
   "execution_count": 6,
   "id": "a9f3282f-bee8-440a-871a-5f374a7cd5ee",
   "metadata": {},
   "outputs": [],
   "source": [
    "X,y = load_diabetes(return_X_y=True)"
   ]
  },
  {
   "cell_type": "code",
   "execution_count": 8,
   "id": "fc0c37cc-c71e-46c6-9cab-bc53aedbac44",
   "metadata": {},
   "outputs": [
    {
     "data": {
      "text/plain": [
       "(442, 10)"
      ]
     },
     "execution_count": 8,
     "metadata": {},
     "output_type": "execute_result"
    }
   ],
   "source": [
    "X.shape"
   ]
  },
  {
   "cell_type": "code",
   "execution_count": 10,
   "id": "54253d40-70f4-420c-97cd-a4c3f58f067e",
   "metadata": {},
   "outputs": [
    {
     "data": {
      "text/plain": [
       "(442,)"
      ]
     },
     "execution_count": 10,
     "metadata": {},
     "output_type": "execute_result"
    }
   ],
   "source": [
    "y.shape"
   ]
  },
  {
   "cell_type": "code",
   "execution_count": 12,
   "id": "8544ecc6-a547-41e8-b867-2266e95ad741",
   "metadata": {},
   "outputs": [],
   "source": [
    "from sklearn.model_selection import cross_val_score\n",
    "from sklearn.linear_model import LinearRegression\n",
    "from sklearn.tree import DecisionTreeRegressor\n",
    "from sklearn.svm import SVR"
   ]
  },
  {
   "cell_type": "code",
   "execution_count": 14,
   "id": "f55df87d-4709-4b08-b1b3-997932d03a39",
   "metadata": {},
   "outputs": [],
   "source": [
    "lr = LinearRegression()\n",
    "dt = DecisionTreeRegressor()\n",
    "svr = SVR()"
   ]
  },
  {
   "cell_type": "code",
   "execution_count": 18,
   "id": "c80c2e3c-8739-4f4b-be52-a425de078383",
   "metadata": {},
   "outputs": [],
   "source": [
    "estimators = [('lr',lr),('dt',dt),('svr',svr)]"
   ]
  },
  {
   "cell_type": "code",
   "execution_count": 26,
   "id": "dbbda3d9-283f-4b86-be03-0fb1cfb3965c",
   "metadata": {},
   "outputs": [
    {
     "name": "stdout",
     "output_type": "stream",
     "text": [
      "lr 0.46\n",
      "dt -0.23\n",
      "svr 0.15\n"
     ]
    }
   ],
   "source": [
    "for estimator in estimators:\n",
    "    scores = cross_val_score(estimator[1],X,y,scoring='r2',cv=10)\n",
    "    print(estimator[0],np.round(np.mean(scores),2))"
   ]
  },
  {
   "cell_type": "code",
   "execution_count": 28,
   "id": "ef9a5fcc-7e97-4ef9-8b5f-a67c46dbd7d8",
   "metadata": {},
   "outputs": [],
   "source": [
    "from sklearn.ensemble import VotingRegressor"
   ]
  },
  {
   "cell_type": "code",
   "execution_count": 30,
   "id": "3d3c5aac-ab51-4b13-a041-76b39cf772ec",
   "metadata": {},
   "outputs": [
    {
     "name": "stdout",
     "output_type": "stream",
     "text": [
      "votting regressor 0.34\n"
     ]
    }
   ],
   "source": [
    "vr = VotingRegressor(estimators=estimators)\n",
    "scores = cross_val_score(vr,X,y,scoring='r2',cv=10)\n",
    "print('votting regressor',np.round(np.mean(scores),2))"
   ]
  },
  {
   "cell_type": "markdown",
   "id": "f3e15de5-5415-4065-9f53-bb3022be20d1",
   "metadata": {},
   "source": [
    "# Give some weight"
   ]
  },
  {
   "cell_type": "code",
   "execution_count": 37,
   "id": "92c87eec-c51d-44b0-8f6d-df472857f546",
   "metadata": {},
   "outputs": [
    {
     "name": "stdout",
     "output_type": "stream",
     "text": [
      "For i=1, j=1, k=1  0.34\n",
      "For i=1, j=1, k=2  0.34\n",
      "For i=1, j=1, k=3  0.31\n",
      "For i=1, j=2, k=1  0.26\n",
      "For i=1, j=2, k=2  0.29\n",
      "For i=1, j=2, k=3  0.28\n",
      "For i=1, j=3, k=1  0.21\n",
      "For i=1, j=3, k=2  0.23\n",
      "For i=1, j=3, k=3  0.26\n",
      "For i=2, j=1, k=1  0.39\n",
      "For i=2, j=1, k=2  0.38\n",
      "For i=2, j=1, k=3  0.37\n",
      "For i=2, j=2, k=1  0.33\n",
      "For i=2, j=2, k=2  0.35\n",
      "For i=2, j=2, k=3  0.35\n",
      "For i=2, j=3, k=1  0.27\n",
      "For i=2, j=3, k=2  0.31\n",
      "For i=2, j=3, k=3  0.32\n",
      "For i=3, j=1, k=1  0.42\n",
      "For i=3, j=1, k=2  0.4\n",
      "For i=3, j=1, k=3  0.39\n",
      "For i=3, j=2, k=1  0.36\n",
      "For i=3, j=2, k=2  0.38\n",
      "For i=3, j=2, k=3  0.37\n",
      "For i=3, j=3, k=1  0.32\n",
      "For i=3, j=3, k=2  0.33\n",
      "For i=3, j=3, k=3  0.35\n"
     ]
    }
   ],
   "source": [
    "for i in range(1,4):\n",
    "    for j in range(1,4):\n",
    "        for k in range(1,4):\n",
    "            vr = VotingRegressor(estimators,weights=[i,j,k])\n",
    "            scores = cross_val_score(vr,X,y,scoring='r2',cv=10)\n",
    "            print('For i={}, j={}, k={} '.format(i,j,k),np.round(np.mean(scores),2))"
   ]
  },
  {
   "cell_type": "code",
   "execution_count": 39,
   "id": "10be0dfd-eb50-4d37-8413-ba100d4bc4e1",
   "metadata": {},
   "outputs": [],
   "source": [
    "# using the same algorithm\n",
    "dt1 = DecisionTreeRegressor(max_depth=1)\n",
    "dt2 = DecisionTreeRegressor(max_depth=2)\n",
    "dt3 = DecisionTreeRegressor(max_depth=3)\n",
    "dt4 = DecisionTreeRegressor(max_depth=4)\n",
    "dt5 = DecisionTreeRegressor(max_depth=5)"
   ]
  },
  {
   "cell_type": "code",
   "execution_count": 41,
   "id": "feec3ad4-5cff-4cc1-bf52-3869c87c29b4",
   "metadata": {},
   "outputs": [],
   "source": [
    "estimators = [('dt1',dt1),('dt2',dt2),('dt3',dt3),('dt4',dt4),('dt5',dt5)]"
   ]
  },
  {
   "cell_type": "code",
   "execution_count": 43,
   "id": "af4fbbbb-24f2-4a45-a14f-792c6b3e8832",
   "metadata": {},
   "outputs": [
    {
     "name": "stdout",
     "output_type": "stream",
     "text": [
      "dt1 0.15\n",
      "dt2 0.31\n",
      "dt3 0.28\n",
      "dt4 0.29\n",
      "dt5 0.14\n"
     ]
    }
   ],
   "source": [
    "for estimator in estimators:\n",
    "    scores = cross_val_score(estimator[1],X,y,scoring='r2',cv=10)\n",
    "    print(estimator[0],np.round(np.mean(scores),2))"
   ]
  },
  {
   "cell_type": "code",
   "execution_count": 45,
   "id": "78361f24-b2ce-434d-b4b3-121ca3055de8",
   "metadata": {},
   "outputs": [
    {
     "name": "stdout",
     "output_type": "stream",
     "text": [
      "Voting Regressor:  0.32\n"
     ]
    }
   ],
   "source": [
    "vr = VotingRegressor(estimators)\n",
    "scores = cross_val_score(vr,X,y,scoring='r2',cv=10)\n",
    "print('Voting Regressor: ',np.round(np.mean(scores),2))"
   ]
  },
  {
   "cell_type": "code",
   "execution_count": null,
   "id": "0d7870b8-8c83-42a4-92c2-25ee71e0893c",
   "metadata": {},
   "outputs": [],
   "source": []
  }
 ],
 "metadata": {
  "kernelspec": {
   "display_name": "Python 3 (ipykernel)",
   "language": "python",
   "name": "python3"
  },
  "language_info": {
   "codemirror_mode": {
    "name": "ipython",
    "version": 3
   },
   "file_extension": ".py",
   "mimetype": "text/x-python",
   "name": "python",
   "nbconvert_exporter": "python",
   "pygments_lexer": "ipython3",
   "version": "3.11.7"
  }
 },
 "nbformat": 4,
 "nbformat_minor": 5
}
