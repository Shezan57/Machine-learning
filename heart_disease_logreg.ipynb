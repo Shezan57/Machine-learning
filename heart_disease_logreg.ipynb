{
  "nbformat": 4,
  "nbformat_minor": 0,
  "metadata": {
    "colab": {
      "provenance": [],
      "authorship_tag": "ABX9TyNeCTNPq58OrR3uq9cw+J9e",
      "include_colab_link": true
    },
    "kernelspec": {
      "name": "python3",
      "display_name": "Python 3"
    },
    "language_info": {
      "name": "python"
    }
  },
  "cells": [
    {
      "cell_type": "markdown",
      "metadata": {
        "id": "view-in-github",
        "colab_type": "text"
      },
      "source": [
        "<a href=\"https://colab.research.google.com/github/Shezan57/Machine-learning/blob/main/heart_disease_logreg.ipynb\" target=\"_parent\"><img src=\"https://colab.research.google.com/assets/colab-badge.svg\" alt=\"Open In Colab\"/></a>"
      ]
    },
    {
      "cell_type": "code",
      "execution_count": null,
      "metadata": {
        "id": "_iHqkfiX7M5N"
      },
      "outputs": [],
      "source": [
        "# Importing importent libreries\n",
        "\n",
        "import pandas as pd\n",
        "import pylab as pl\n",
        "import numpy as np\n",
        "import scipy.optimize as opt\n",
        "import statsmodels.api as sm\n",
        "from sklearn import preprocessing\n",
        "'exec(% matplotlib inline)'\n",
        "import matplotlib.pyplot as plt\n",
        "import matplotlib.mlab as mlab\n",
        "import seaborn as sns"
      ]
    },
    {
      "cell_type": "code",
      "source": [
        "# loading dataset\n",
        "disease_df = pd.read_csv('framingham.csv')\n",
        "disease_df.drop(['education'], inplace = True, axis = 1)\n",
        "disease_df.rename(columns={'male':'sex_male'}, inplace = True)"
      ],
      "metadata": {
        "id": "xw4n2UAz8AVH"
      },
      "execution_count": null,
      "outputs": []
    },
    {
      "cell_type": "code",
      "source": [
        "# removing NaN / Null values\n",
        "disease_df.dropna(axis=0, inplace = True)\n",
        "print(disease_df.head(), disease_df.shape)\n",
        "print(disease_df.TenYearCHD.value_counts())"
      ],
      "metadata": {
        "colab": {
          "base_uri": "https://localhost:8080/"
        },
        "id": "ZhThWMtx9ZNq",
        "outputId": "b64ac54a-c5a6-4dae-d314-d7fd2a99ddda"
      },
      "execution_count": null,
      "outputs": [
        {
          "output_type": "stream",
          "name": "stdout",
          "text": [
            "   sex_male  age  currentSmoker  cigsPerDay  BPMeds  prevalentStroke  \\\n",
            "0         1   39              0         0.0     0.0                0   \n",
            "1         0   46              0         0.0     0.0                0   \n",
            "2         1   48              1        20.0     0.0                0   \n",
            "3         0   61              1        30.0     0.0                0   \n",
            "4         0   46              1        23.0     0.0                0   \n",
            "\n",
            "   prevalentHyp  diabetes  totChol  sysBP  diaBP    BMI  heartRate  glucose  \\\n",
            "0             0         0    195.0  106.0   70.0  26.97       80.0     77.0   \n",
            "1             0         0    250.0  121.0   81.0  28.73       95.0     76.0   \n",
            "2             0         0    245.0  127.5   80.0  25.34       75.0     70.0   \n",
            "3             1         0    225.0  150.0   95.0  28.58       65.0    103.0   \n",
            "4             0         0    285.0  130.0   84.0  23.10       85.0     85.0   \n",
            "\n",
            "   TenYearCHD  \n",
            "0           0  \n",
            "1           0  \n",
            "2           0  \n",
            "3           1  \n",
            "4           0   (3751, 15)\n",
            "TenYearCHD\n",
            "0    3179\n",
            "1     572\n",
            "Name: count, dtype: int64\n"
          ]
        }
      ]
    },
    {
      "cell_type": "code",
      "source": [
        "# data visualization\n",
        "disease_df.describe()"
      ],
      "metadata": {
        "colab": {
          "base_uri": "https://localhost:8080/",
          "height": 320
        },
        "id": "HWcGk_Ko9wDo",
        "outputId": "e1bb0e2e-92ee-48ec-a4fc-5b53e55268a9"
      },
      "execution_count": null,
      "outputs": [
        {
          "output_type": "execute_result",
          "data": {
            "text/plain": [
              "          sex_male          age  currentSmoker   cigsPerDay       BPMeds  \\\n",
              "count  3751.000000  3751.000000    3751.000000  3751.000000  3751.000000   \n",
              "mean      0.445215    49.573447       0.488403     9.008531     0.030392   \n",
              "std       0.497056     8.570204       0.499932    11.925097     0.171686   \n",
              "min       0.000000    32.000000       0.000000     0.000000     0.000000   \n",
              "25%       0.000000    42.000000       0.000000     0.000000     0.000000   \n",
              "50%       0.000000    49.000000       0.000000     0.000000     0.000000   \n",
              "75%       1.000000    56.000000       1.000000    20.000000     0.000000   \n",
              "max       1.000000    70.000000       1.000000    70.000000     1.000000   \n",
              "\n",
              "       prevalentStroke  prevalentHyp     diabetes      totChol        sysBP  \\\n",
              "count      3751.000000   3751.000000  3751.000000  3751.000000  3751.000000   \n",
              "mean          0.005599      0.311917     0.027193   236.928019   132.368435   \n",
              "std           0.074623      0.463338     0.162666    44.611594    22.046522   \n",
              "min           0.000000      0.000000     0.000000   113.000000    83.500000   \n",
              "25%           0.000000      0.000000     0.000000   206.000000   117.000000   \n",
              "50%           0.000000      0.000000     0.000000   234.000000   128.000000   \n",
              "75%           0.000000      1.000000     0.000000   264.000000   144.000000   \n",
              "max           1.000000      1.000000     1.000000   696.000000   295.000000   \n",
              "\n",
              "             diaBP          BMI    heartRate      glucose   TenYearCHD  \n",
              "count  3751.000000  3751.000000  3751.000000  3751.000000  3751.000000  \n",
              "mean     82.938550    25.808288    75.704079    81.880032     0.152493  \n",
              "std      11.932779     4.065599    11.956382    23.882233     0.359546  \n",
              "min      48.000000    15.540000    44.000000    40.000000     0.000000  \n",
              "25%      75.000000    23.085000    68.000000    71.000000     0.000000  \n",
              "50%      82.000000    25.410000    75.000000    78.000000     0.000000  \n",
              "75%      90.000000    28.060000    82.000000    87.000000     0.000000  \n",
              "max     142.500000    56.800000   143.000000   394.000000     1.000000  "
            ],
            "text/html": [
              "\n",
              "  <div id=\"df-7fdc5eb4-9634-4fe8-a2dd-214976cc450b\" class=\"colab-df-container\">\n",
              "    <div>\n",
              "<style scoped>\n",
              "    .dataframe tbody tr th:only-of-type {\n",
              "        vertical-align: middle;\n",
              "    }\n",
              "\n",
              "    .dataframe tbody tr th {\n",
              "        vertical-align: top;\n",
              "    }\n",
              "\n",
              "    .dataframe thead th {\n",
              "        text-align: right;\n",
              "    }\n",
              "</style>\n",
              "<table border=\"1\" class=\"dataframe\">\n",
              "  <thead>\n",
              "    <tr style=\"text-align: right;\">\n",
              "      <th></th>\n",
              "      <th>sex_male</th>\n",
              "      <th>age</th>\n",
              "      <th>currentSmoker</th>\n",
              "      <th>cigsPerDay</th>\n",
              "      <th>BPMeds</th>\n",
              "      <th>prevalentStroke</th>\n",
              "      <th>prevalentHyp</th>\n",
              "      <th>diabetes</th>\n",
              "      <th>totChol</th>\n",
              "      <th>sysBP</th>\n",
              "      <th>diaBP</th>\n",
              "      <th>BMI</th>\n",
              "      <th>heartRate</th>\n",
              "      <th>glucose</th>\n",
              "      <th>TenYearCHD</th>\n",
              "    </tr>\n",
              "  </thead>\n",
              "  <tbody>\n",
              "    <tr>\n",
              "      <th>count</th>\n",
              "      <td>3751.000000</td>\n",
              "      <td>3751.000000</td>\n",
              "      <td>3751.000000</td>\n",
              "      <td>3751.000000</td>\n",
              "      <td>3751.000000</td>\n",
              "      <td>3751.000000</td>\n",
              "      <td>3751.000000</td>\n",
              "      <td>3751.000000</td>\n",
              "      <td>3751.000000</td>\n",
              "      <td>3751.000000</td>\n",
              "      <td>3751.000000</td>\n",
              "      <td>3751.000000</td>\n",
              "      <td>3751.000000</td>\n",
              "      <td>3751.000000</td>\n",
              "      <td>3751.000000</td>\n",
              "    </tr>\n",
              "    <tr>\n",
              "      <th>mean</th>\n",
              "      <td>0.445215</td>\n",
              "      <td>49.573447</td>\n",
              "      <td>0.488403</td>\n",
              "      <td>9.008531</td>\n",
              "      <td>0.030392</td>\n",
              "      <td>0.005599</td>\n",
              "      <td>0.311917</td>\n",
              "      <td>0.027193</td>\n",
              "      <td>236.928019</td>\n",
              "      <td>132.368435</td>\n",
              "      <td>82.938550</td>\n",
              "      <td>25.808288</td>\n",
              "      <td>75.704079</td>\n",
              "      <td>81.880032</td>\n",
              "      <td>0.152493</td>\n",
              "    </tr>\n",
              "    <tr>\n",
              "      <th>std</th>\n",
              "      <td>0.497056</td>\n",
              "      <td>8.570204</td>\n",
              "      <td>0.499932</td>\n",
              "      <td>11.925097</td>\n",
              "      <td>0.171686</td>\n",
              "      <td>0.074623</td>\n",
              "      <td>0.463338</td>\n",
              "      <td>0.162666</td>\n",
              "      <td>44.611594</td>\n",
              "      <td>22.046522</td>\n",
              "      <td>11.932779</td>\n",
              "      <td>4.065599</td>\n",
              "      <td>11.956382</td>\n",
              "      <td>23.882233</td>\n",
              "      <td>0.359546</td>\n",
              "    </tr>\n",
              "    <tr>\n",
              "      <th>min</th>\n",
              "      <td>0.000000</td>\n",
              "      <td>32.000000</td>\n",
              "      <td>0.000000</td>\n",
              "      <td>0.000000</td>\n",
              "      <td>0.000000</td>\n",
              "      <td>0.000000</td>\n",
              "      <td>0.000000</td>\n",
              "      <td>0.000000</td>\n",
              "      <td>113.000000</td>\n",
              "      <td>83.500000</td>\n",
              "      <td>48.000000</td>\n",
              "      <td>15.540000</td>\n",
              "      <td>44.000000</td>\n",
              "      <td>40.000000</td>\n",
              "      <td>0.000000</td>\n",
              "    </tr>\n",
              "    <tr>\n",
              "      <th>25%</th>\n",
              "      <td>0.000000</td>\n",
              "      <td>42.000000</td>\n",
              "      <td>0.000000</td>\n",
              "      <td>0.000000</td>\n",
              "      <td>0.000000</td>\n",
              "      <td>0.000000</td>\n",
              "      <td>0.000000</td>\n",
              "      <td>0.000000</td>\n",
              "      <td>206.000000</td>\n",
              "      <td>117.000000</td>\n",
              "      <td>75.000000</td>\n",
              "      <td>23.085000</td>\n",
              "      <td>68.000000</td>\n",
              "      <td>71.000000</td>\n",
              "      <td>0.000000</td>\n",
              "    </tr>\n",
              "    <tr>\n",
              "      <th>50%</th>\n",
              "      <td>0.000000</td>\n",
              "      <td>49.000000</td>\n",
              "      <td>0.000000</td>\n",
              "      <td>0.000000</td>\n",
              "      <td>0.000000</td>\n",
              "      <td>0.000000</td>\n",
              "      <td>0.000000</td>\n",
              "      <td>0.000000</td>\n",
              "      <td>234.000000</td>\n",
              "      <td>128.000000</td>\n",
              "      <td>82.000000</td>\n",
              "      <td>25.410000</td>\n",
              "      <td>75.000000</td>\n",
              "      <td>78.000000</td>\n",
              "      <td>0.000000</td>\n",
              "    </tr>\n",
              "    <tr>\n",
              "      <th>75%</th>\n",
              "      <td>1.000000</td>\n",
              "      <td>56.000000</td>\n",
              "      <td>1.000000</td>\n",
              "      <td>20.000000</td>\n",
              "      <td>0.000000</td>\n",
              "      <td>0.000000</td>\n",
              "      <td>1.000000</td>\n",
              "      <td>0.000000</td>\n",
              "      <td>264.000000</td>\n",
              "      <td>144.000000</td>\n",
              "      <td>90.000000</td>\n",
              "      <td>28.060000</td>\n",
              "      <td>82.000000</td>\n",
              "      <td>87.000000</td>\n",
              "      <td>0.000000</td>\n",
              "    </tr>\n",
              "    <tr>\n",
              "      <th>max</th>\n",
              "      <td>1.000000</td>\n",
              "      <td>70.000000</td>\n",
              "      <td>1.000000</td>\n",
              "      <td>70.000000</td>\n",
              "      <td>1.000000</td>\n",
              "      <td>1.000000</td>\n",
              "      <td>1.000000</td>\n",
              "      <td>1.000000</td>\n",
              "      <td>696.000000</td>\n",
              "      <td>295.000000</td>\n",
              "      <td>142.500000</td>\n",
              "      <td>56.800000</td>\n",
              "      <td>143.000000</td>\n",
              "      <td>394.000000</td>\n",
              "      <td>1.000000</td>\n",
              "    </tr>\n",
              "  </tbody>\n",
              "</table>\n",
              "</div>\n",
              "    <div class=\"colab-df-buttons\">\n",
              "\n",
              "  <div class=\"colab-df-container\">\n",
              "    <button class=\"colab-df-convert\" onclick=\"convertToInteractive('df-7fdc5eb4-9634-4fe8-a2dd-214976cc450b')\"\n",
              "            title=\"Convert this dataframe to an interactive table.\"\n",
              "            style=\"display:none;\">\n",
              "\n",
              "  <svg xmlns=\"http://www.w3.org/2000/svg\" height=\"24px\" viewBox=\"0 -960 960 960\">\n",
              "    <path d=\"M120-120v-720h720v720H120Zm60-500h600v-160H180v160Zm220 220h160v-160H400v160Zm0 220h160v-160H400v160ZM180-400h160v-160H180v160Zm440 0h160v-160H620v160ZM180-180h160v-160H180v160Zm440 0h160v-160H620v160Z\"/>\n",
              "  </svg>\n",
              "    </button>\n",
              "\n",
              "  <style>\n",
              "    .colab-df-container {\n",
              "      display:flex;\n",
              "      gap: 12px;\n",
              "    }\n",
              "\n",
              "    .colab-df-convert {\n",
              "      background-color: #E8F0FE;\n",
              "      border: none;\n",
              "      border-radius: 50%;\n",
              "      cursor: pointer;\n",
              "      display: none;\n",
              "      fill: #1967D2;\n",
              "      height: 32px;\n",
              "      padding: 0 0 0 0;\n",
              "      width: 32px;\n",
              "    }\n",
              "\n",
              "    .colab-df-convert:hover {\n",
              "      background-color: #E2EBFA;\n",
              "      box-shadow: 0px 1px 2px rgba(60, 64, 67, 0.3), 0px 1px 3px 1px rgba(60, 64, 67, 0.15);\n",
              "      fill: #174EA6;\n",
              "    }\n",
              "\n",
              "    .colab-df-buttons div {\n",
              "      margin-bottom: 4px;\n",
              "    }\n",
              "\n",
              "    [theme=dark] .colab-df-convert {\n",
              "      background-color: #3B4455;\n",
              "      fill: #D2E3FC;\n",
              "    }\n",
              "\n",
              "    [theme=dark] .colab-df-convert:hover {\n",
              "      background-color: #434B5C;\n",
              "      box-shadow: 0px 1px 3px 1px rgba(0, 0, 0, 0.15);\n",
              "      filter: drop-shadow(0px 1px 2px rgba(0, 0, 0, 0.3));\n",
              "      fill: #FFFFFF;\n",
              "    }\n",
              "  </style>\n",
              "\n",
              "    <script>\n",
              "      const buttonEl =\n",
              "        document.querySelector('#df-7fdc5eb4-9634-4fe8-a2dd-214976cc450b button.colab-df-convert');\n",
              "      buttonEl.style.display =\n",
              "        google.colab.kernel.accessAllowed ? 'block' : 'none';\n",
              "\n",
              "      async function convertToInteractive(key) {\n",
              "        const element = document.querySelector('#df-7fdc5eb4-9634-4fe8-a2dd-214976cc450b');\n",
              "        const dataTable =\n",
              "          await google.colab.kernel.invokeFunction('convertToInteractive',\n",
              "                                                    [key], {});\n",
              "        if (!dataTable) return;\n",
              "\n",
              "        const docLinkHtml = 'Like what you see? Visit the ' +\n",
              "          '<a target=\"_blank\" href=https://colab.research.google.com/notebooks/data_table.ipynb>data table notebook</a>'\n",
              "          + ' to learn more about interactive tables.';\n",
              "        element.innerHTML = '';\n",
              "        dataTable['output_type'] = 'display_data';\n",
              "        await google.colab.output.renderOutput(dataTable, element);\n",
              "        const docLink = document.createElement('div');\n",
              "        docLink.innerHTML = docLinkHtml;\n",
              "        element.appendChild(docLink);\n",
              "      }\n",
              "    </script>\n",
              "  </div>\n",
              "\n",
              "\n",
              "<div id=\"df-978c4b34-d88a-4bf4-866c-ac3bf87cabb4\">\n",
              "  <button class=\"colab-df-quickchart\" onclick=\"quickchart('df-978c4b34-d88a-4bf4-866c-ac3bf87cabb4')\"\n",
              "            title=\"Suggest charts\"\n",
              "            style=\"display:none;\">\n",
              "\n",
              "<svg xmlns=\"http://www.w3.org/2000/svg\" height=\"24px\"viewBox=\"0 0 24 24\"\n",
              "     width=\"24px\">\n",
              "    <g>\n",
              "        <path d=\"M19 3H5c-1.1 0-2 .9-2 2v14c0 1.1.9 2 2 2h14c1.1 0 2-.9 2-2V5c0-1.1-.9-2-2-2zM9 17H7v-7h2v7zm4 0h-2V7h2v10zm4 0h-2v-4h2v4z\"/>\n",
              "    </g>\n",
              "</svg>\n",
              "  </button>\n",
              "\n",
              "<style>\n",
              "  .colab-df-quickchart {\n",
              "      --bg-color: #E8F0FE;\n",
              "      --fill-color: #1967D2;\n",
              "      --hover-bg-color: #E2EBFA;\n",
              "      --hover-fill-color: #174EA6;\n",
              "      --disabled-fill-color: #AAA;\n",
              "      --disabled-bg-color: #DDD;\n",
              "  }\n",
              "\n",
              "  [theme=dark] .colab-df-quickchart {\n",
              "      --bg-color: #3B4455;\n",
              "      --fill-color: #D2E3FC;\n",
              "      --hover-bg-color: #434B5C;\n",
              "      --hover-fill-color: #FFFFFF;\n",
              "      --disabled-bg-color: #3B4455;\n",
              "      --disabled-fill-color: #666;\n",
              "  }\n",
              "\n",
              "  .colab-df-quickchart {\n",
              "    background-color: var(--bg-color);\n",
              "    border: none;\n",
              "    border-radius: 50%;\n",
              "    cursor: pointer;\n",
              "    display: none;\n",
              "    fill: var(--fill-color);\n",
              "    height: 32px;\n",
              "    padding: 0;\n",
              "    width: 32px;\n",
              "  }\n",
              "\n",
              "  .colab-df-quickchart:hover {\n",
              "    background-color: var(--hover-bg-color);\n",
              "    box-shadow: 0 1px 2px rgba(60, 64, 67, 0.3), 0 1px 3px 1px rgba(60, 64, 67, 0.15);\n",
              "    fill: var(--button-hover-fill-color);\n",
              "  }\n",
              "\n",
              "  .colab-df-quickchart-complete:disabled,\n",
              "  .colab-df-quickchart-complete:disabled:hover {\n",
              "    background-color: var(--disabled-bg-color);\n",
              "    fill: var(--disabled-fill-color);\n",
              "    box-shadow: none;\n",
              "  }\n",
              "\n",
              "  .colab-df-spinner {\n",
              "    border: 2px solid var(--fill-color);\n",
              "    border-color: transparent;\n",
              "    border-bottom-color: var(--fill-color);\n",
              "    animation:\n",
              "      spin 1s steps(1) infinite;\n",
              "  }\n",
              "\n",
              "  @keyframes spin {\n",
              "    0% {\n",
              "      border-color: transparent;\n",
              "      border-bottom-color: var(--fill-color);\n",
              "      border-left-color: var(--fill-color);\n",
              "    }\n",
              "    20% {\n",
              "      border-color: transparent;\n",
              "      border-left-color: var(--fill-color);\n",
              "      border-top-color: var(--fill-color);\n",
              "    }\n",
              "    30% {\n",
              "      border-color: transparent;\n",
              "      border-left-color: var(--fill-color);\n",
              "      border-top-color: var(--fill-color);\n",
              "      border-right-color: var(--fill-color);\n",
              "    }\n",
              "    40% {\n",
              "      border-color: transparent;\n",
              "      border-right-color: var(--fill-color);\n",
              "      border-top-color: var(--fill-color);\n",
              "    }\n",
              "    60% {\n",
              "      border-color: transparent;\n",
              "      border-right-color: var(--fill-color);\n",
              "    }\n",
              "    80% {\n",
              "      border-color: transparent;\n",
              "      border-right-color: var(--fill-color);\n",
              "      border-bottom-color: var(--fill-color);\n",
              "    }\n",
              "    90% {\n",
              "      border-color: transparent;\n",
              "      border-bottom-color: var(--fill-color);\n",
              "    }\n",
              "  }\n",
              "</style>\n",
              "\n",
              "  <script>\n",
              "    async function quickchart(key) {\n",
              "      const quickchartButtonEl =\n",
              "        document.querySelector('#' + key + ' button');\n",
              "      quickchartButtonEl.disabled = true;  // To prevent multiple clicks.\n",
              "      quickchartButtonEl.classList.add('colab-df-spinner');\n",
              "      try {\n",
              "        const charts = await google.colab.kernel.invokeFunction(\n",
              "            'suggestCharts', [key], {});\n",
              "      } catch (error) {\n",
              "        console.error('Error during call to suggestCharts:', error);\n",
              "      }\n",
              "      quickchartButtonEl.classList.remove('colab-df-spinner');\n",
              "      quickchartButtonEl.classList.add('colab-df-quickchart-complete');\n",
              "    }\n",
              "    (() => {\n",
              "      let quickchartButtonEl =\n",
              "        document.querySelector('#df-978c4b34-d88a-4bf4-866c-ac3bf87cabb4 button');\n",
              "      quickchartButtonEl.style.display =\n",
              "        google.colab.kernel.accessAllowed ? 'block' : 'none';\n",
              "    })();\n",
              "  </script>\n",
              "</div>\n",
              "\n",
              "    </div>\n",
              "  </div>\n"
            ],
            "application/vnd.google.colaboratory.intrinsic+json": {
              "type": "dataframe",
              "summary": "{\n  \"name\": \"disease_df\",\n  \"rows\": 8,\n  \"fields\": [\n    {\n      \"column\": \"sex_male\",\n      \"properties\": {\n        \"dtype\": \"number\",\n        \"std\": 1326.0302261219595,\n        \"min\": 0.0,\n        \"max\": 3751.0,\n        \"num_unique_values\": 5,\n        \"samples\": [\n          0.4452146094374833,\n          1.0,\n          0.49705575870704954\n        ],\n        \"semantic_type\": \"\",\n        \"description\": \"\"\n      }\n    },\n    {\n      \"column\": \"age\",\n      \"properties\": {\n        \"dtype\": \"number\",\n        \"std\": 1310.7898784438307,\n        \"min\": 8.570204436756384,\n        \"max\": 3751.0,\n        \"num_unique_values\": 8,\n        \"samples\": [\n          49.57344708077846,\n          49.0,\n          3751.0\n        ],\n        \"semantic_type\": \"\",\n        \"description\": \"\"\n      }\n    },\n    {\n      \"column\": \"currentSmoker\",\n      \"properties\": {\n        \"dtype\": \"number\",\n        \"std\": 1326.027899719359,\n        \"min\": 0.0,\n        \"max\": 3751.0,\n        \"num_unique_values\": 5,\n        \"samples\": [\n          0.48840309250866437,\n          1.0,\n          0.4999321379345072\n        ],\n        \"semantic_type\": \"\",\n        \"description\": \"\"\n      }\n    },\n    {\n      \"column\": \"cigsPerDay\",\n      \"properties\": {\n        \"dtype\": \"number\",\n        \"std\": 1320.779420514035,\n        \"min\": 0.0,\n        \"max\": 3751.0,\n        \"num_unique_values\": 6,\n        \"samples\": [\n          3751.0,\n          9.008531058384431,\n          70.0\n        ],\n        \"semantic_type\": \"\",\n        \"description\": \"\"\n      }\n    },\n    {\n      \"column\": \"BPMeds\",\n      \"properties\": {\n        \"dtype\": \"number\",\n        \"std\": 1326.1180983941179,\n        \"min\": 0.0,\n        \"max\": 3751.0,\n        \"num_unique_values\": 5,\n        \"samples\": [\n          0.03039189549453479,\n          1.0,\n          0.1716860110112823\n        ],\n        \"semantic_type\": \"\",\n        \"description\": \"\"\n      }\n    },\n    {\n      \"column\": \"prevalentStroke\",\n      \"properties\": {\n        \"dtype\": \"number\",\n        \"std\": 1326.1242538566778,\n        \"min\": 0.0,\n        \"max\": 3751.0,\n        \"num_unique_values\": 5,\n        \"samples\": [\n          0.005598507064782724,\n          1.0,\n          0.07462337676919491\n        ],\n        \"semantic_type\": \"\",\n        \"description\": \"\"\n      }\n    },\n    {\n      \"column\": \"prevalentHyp\",\n      \"properties\": {\n        \"dtype\": \"number\",\n        \"std\": 1326.038661856235,\n        \"min\": 0.0,\n        \"max\": 3751.0,\n        \"num_unique_values\": 5,\n        \"samples\": [\n          0.3119168221807518,\n          1.0,\n          0.4633378373062203\n        ],\n        \"semantic_type\": \"\",\n        \"description\": \"\"\n      }\n    },\n    {\n      \"column\": \"diabetes\",\n      \"properties\": {\n        \"dtype\": \"number\",\n        \"std\": 1326.1187155871671,\n        \"min\": 0.0,\n        \"max\": 3751.0,\n        \"num_unique_values\": 5,\n        \"samples\": [\n          0.027192748600373233,\n          1.0,\n          0.1626663986140649\n        ],\n        \"semantic_type\": \"\",\n        \"description\": \"\"\n      }\n    },\n    {\n      \"column\": \"totChol\",\n      \"properties\": {\n        \"dtype\": \"number\",\n        \"std\": 1250.604018688625,\n        \"min\": 44.611593605795996,\n        \"max\": 3751.0,\n        \"num_unique_values\": 8,\n        \"samples\": [\n          236.92801919488136,\n          234.0,\n          3751.0\n        ],\n        \"semantic_type\": \"\",\n        \"description\": \"\"\n      }\n    },\n    {\n      \"column\": \"sysBP\",\n      \"properties\": {\n        \"dtype\": \"number\",\n        \"std\": 1281.9236620185138,\n        \"min\": 22.046522463275654,\n        \"max\": 3751.0,\n        \"num_unique_values\": 8,\n        \"samples\": [\n          132.3684350839776,\n          128.0,\n          3751.0\n        ],\n        \"semantic_type\": \"\",\n        \"description\": \"\"\n      }\n    },\n    {\n      \"column\": \"diaBP\",\n      \"properties\": {\n        \"dtype\": \"number\",\n        \"std\": 1299.8171685401564,\n        \"min\": 11.932779343310061,\n        \"max\": 3751.0,\n        \"num_unique_values\": 8,\n        \"samples\": [\n          82.93854972007465,\n          82.0,\n          3751.0\n        ],\n        \"semantic_type\": \"\",\n        \"description\": \"\"\n      }\n    },\n    {\n      \"column\": \"BMI\",\n      \"properties\": {\n        \"dtype\": \"number\",\n        \"std\": 1317.2336726792548,\n        \"min\": 4.065598682011139,\n        \"max\": 3751.0,\n        \"num_unique_values\": 8,\n        \"samples\": [\n          25.808288456411624,\n          25.41,\n          3751.0\n        ],\n        \"semantic_type\": \"\",\n        \"description\": \"\"\n      }\n    },\n    {\n      \"column\": \"heartRate\",\n      \"properties\": {\n        \"dtype\": \"number\",\n        \"std\": 1301.4672361957644,\n        \"min\": 11.956382146147075,\n        \"max\": 3751.0,\n        \"num_unique_values\": 8,\n        \"samples\": [\n          75.70407891229006,\n          75.0,\n          3751.0\n        ],\n        \"semantic_type\": \"\",\n        \"description\": \"\"\n      }\n    },\n    {\n      \"column\": \"glucose\",\n      \"properties\": {\n        \"dtype\": \"number\",\n        \"std\": 1292.3598915399136,\n        \"min\": 23.882233365111457,\n        \"max\": 3751.0,\n        \"num_unique_values\": 8,\n        \"samples\": [\n          81.88003199146894,\n          78.0,\n          3751.0\n        ],\n        \"semantic_type\": \"\",\n        \"description\": \"\"\n      }\n    },\n    {\n      \"column\": \"TenYearCHD\",\n      \"properties\": {\n        \"dtype\": \"number\",\n        \"std\": 1326.102443131437,\n        \"min\": 0.0,\n        \"max\": 3751.0,\n        \"num_unique_values\": 5,\n        \"samples\": [\n          0.15249266862170088,\n          1.0,\n          0.3595457109736812\n        ],\n        \"semantic_type\": \"\",\n        \"description\": \"\"\n      }\n    }\n  ]\n}"
            }
          },
          "metadata": {},
          "execution_count": 7
        }
      ]
    },
    {
      "cell_type": "code",
      "source": [
        "# splitting the dataset into training testing data sets\n",
        "X = np.asanyarray(disease_df[['age','sex_male','cigsPerDay','totChol','sysBP','glucose']])\n",
        "y = np.asanyarray(disease_df['TenYearCHD'])\n",
        "\n",
        "# normalization of the dataset\n",
        "\n",
        "X = preprocessing.StandardScaler().fit(X).transform(X)\n",
        "\n",
        "# Train and Test split\n",
        "\n",
        "from sklearn.model_selection import train_test_split\n",
        "X_train, X_test, y_train, y_test = train_test_split(X,y,test_size = 0.3, random_state = 4)\n",
        "\n",
        "print('Train set:',X_train.shape, y_train.shape)\n",
        "print('Test set:',X_test.shape, y_test.shape)"
      ],
      "metadata": {
        "colab": {
          "base_uri": "https://localhost:8080/"
        },
        "id": "T5R6vBc498c0",
        "outputId": "33d56d75-9855-45ff-bc1b-947391656d34"
      },
      "execution_count": null,
      "outputs": [
        {
          "output_type": "stream",
          "name": "stdout",
          "text": [
            "Train set: (2625, 6) (2625,)\n",
            "Test set: (1126, 6) (1126,)\n"
          ]
        }
      ]
    },
    {
      "cell_type": "code",
      "source": [
        "# counting number of patients affected with  CHD\n",
        "plt.figure(figsize=(7,5))\n",
        "sns.countplot(x='TenYearCHD', data=disease_df,palette='BuGn_r')\n",
        "plt.show()"
      ],
      "metadata": {
        "colab": {
          "base_uri": "https://localhost:8080/",
          "height": 572
        },
        "id": "YYBPSRsEAp0h",
        "outputId": "5d8731bf-68b3-4e25-a6ec-5a539e0469e6"
      },
      "execution_count": null,
      "outputs": [
        {
          "output_type": "stream",
          "name": "stderr",
          "text": [
            "<ipython-input-10-03c4796867a4>:3: FutureWarning: \n",
            "\n",
            "Passing `palette` without assigning `hue` is deprecated and will be removed in v0.14.0. Assign the `x` variable to `hue` and set `legend=False` for the same effect.\n",
            "\n",
            "  sns.countplot(x='TenYearCHD', data=disease_df,palette='BuGn_r')\n"
          ]
        },
        {
          "output_type": "display_data",
          "data": {
            "text/plain": [
              "<Figure size 700x500 with 1 Axes>"
            ],
            "image/png": "[encoded data removed]"
          },
          "metadata": {}
        }
      ]
    },
    {
      "cell_type": "code",
      "source": [
        "# counting number of patients affected by CHD where 0 = Not affected and 1 = Affected\n",
        "laste = disease_df['TenYearCHD'].plot()\n",
        "plt.show(laste)"
      ],
      "metadata": {
        "colab": {
          "base_uri": "https://localhost:8080/",
          "height": 430
        },
        "id": "AKvJM1lwBcor",
        "outputId": "339ceae1-083a-4039-b8f7-c031bf2eeb16"
      },
      "execution_count": null,
      "outputs": [
        {
          "output_type": "display_data",
          "data": {
            "text/plain": [
              "<Figure size 640x480 with 1 Axes>"
            ],
            "image/png": "[encoded data removed]"
          },
          "metadata": {}
        }
      ]
    },
    {
      "cell_type": "markdown",
      "source": [
        "Fitting Logistic Regression Model for Heart Disease Prediction"
      ],
      "metadata": {
        "id": "tmjS7GxYCZiZ"
      }
    },
    {
      "cell_type": "code",
      "source": [
        "from sklearn.linear_model import LogisticRegression\n",
        "logreg = LogisticRegression()\n",
        "logreg.fit(X_train, y_train)\n",
        "y_pred = logreg.predict(X_test)"
      ],
      "metadata": {
        "id": "1mwClhfYCOuT"
      },
      "execution_count": null,
      "outputs": []
    },
    {
      "cell_type": "markdown",
      "source": [
        "Evaluating Logistic Regression Model"
      ],
      "metadata": {
        "id": "ES30pkk0DD6r"
      }
    },
    {
      "cell_type": "code",
      "source": [
        "from sklearn.metrics import accuracy_score\n",
        "print('Accuracy of the model is = ', accuracy_score(y_test, y_pred))"
      ],
      "metadata": {
        "colab": {
          "base_uri": "https://localhost:8080/"
        },
        "id": "DSwpKzLJC6fE",
        "outputId": "7e4f241c-3ffd-400b-9de8-fdfd61f54729"
      },
      "execution_count": null,
      "outputs": [
        {
          "output_type": "stream",
          "name": "stdout",
          "text": [
            "Accuracy of the model is =  0.8490230905861457\n"
          ]
        }
      ]
    },
    {
      "cell_type": "markdown",
      "source": [
        "Confusion Matrix"
      ],
      "metadata": {
        "id": "lB-gCPvKDeym"
      }
    },
    {
      "cell_type": "markdown",
      "source": [],
      "metadata": {
        "id": "BwFUs1VIDebq"
      }
    },
    {
      "cell_type": "code",
      "source": [
        "from sklearn.metrics import confusion_matrix, classification_report\n",
        "\n",
        "cm = confusion_matrix(y_test,y_pred)\n",
        "conf_matrix = pd.DataFrame(data = cm, columns = ['predicted:0','predicted:1'],\n",
        "                           index=['Actual:0','Actual:1'])\n",
        "plt.figure(figsize=(8,5))\n",
        "sns.heatmap(conf_matrix, annot = True, fmt ='d', cmap = 'Greens')\n",
        "plt.show()\n",
        "print('The details for confusion matrix is = ')\n",
        "print(classification_report(y_test, y_pred))"
      ],
      "metadata": {
        "colab": {
          "base_uri": "https://localhost:8080/",
          "height": 619
        },
        "id": "Q-fBogIqDacO",
        "outputId": "e21b370f-a764-4ae5-88bc-b0b7a272dbe6"
      },
      "execution_count": null,
      "outputs": [
        {
          "output_type": "display_data",
          "data": {
            "text/plain": [
              "<Figure size 800x500 with 2 Axes>"
            ],
            "image/png": "[encoded data removed]"
          },
          "metadata": {}
        },
        {
          "output_type": "stream",
          "name": "stdout",
          "text": [
            "The details for confusion matrix is = \n",
            "              precision    recall  f1-score   support\n",
            "\n",
            "           0       0.85      0.99      0.92       951\n",
            "           1       0.61      0.08      0.14       175\n",
            "\n",
            "    accuracy                           0.85      1126\n",
            "   macro avg       0.73      0.54      0.53      1126\n",
            "weighted avg       0.82      0.85      0.80      1126\n",
            "\n"
          ]
        }
      ]
    },
    {
      "cell_type": "code",
      "source": [],
      "metadata": {
        "id": "A_MpivYLEqCE"
      },
      "execution_count": null,
      "outputs": []
    }
  ]
}