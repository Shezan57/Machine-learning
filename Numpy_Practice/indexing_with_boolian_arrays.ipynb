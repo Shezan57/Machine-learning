{
 "cells": [
  {
   "cell_type": "code",
   "execution_count": 2,
   "id": "08474834-0533-4ec5-9186-e6c605e6a8bd",
   "metadata": {},
   "outputs": [],
   "source": [
    "import numpy as np"
   ]
  },
  {
   "cell_type": "code",
   "execution_count": 4,
   "id": "2211a37d-6293-436d-b696-48b61d5fcab3",
   "metadata": {},
   "outputs": [
    {
     "data": {
      "text/plain": [
       "array([[ 1, 14, 23, 37,  6],\n",
       "       [96, 80, 76, 66, 48],\n",
       "       [94, 84, 21, 15,  7],\n",
       "       [63, 85, 24, 62, 64]])"
      ]
     },
     "execution_count": 4,
     "metadata": {},
     "output_type": "execute_result"
    }
   ],
   "source": [
    "arr = np.random.randint(low=1,high=100,size=20).reshape(4,5)\n",
    "arr"
   ]
  },
  {
   "cell_type": "code",
   "execution_count": 6,
   "id": "7c1adad6-ea0d-472e-a673-ed5a1591ca48",
   "metadata": {},
   "outputs": [
    {
     "data": {
      "text/plain": [
       "array([96, 80, 76, 66, 94, 84, 63, 85, 62, 64])"
      ]
     },
     "execution_count": 6,
     "metadata": {},
     "output_type": "execute_result"
    }
   ],
   "source": [
    "# Indexing using Boolian array \n",
    "arr[arr>50]"
   ]
  },
  {
   "cell_type": "code",
   "execution_count": 8,
   "id": "fb4fefa4-6c7e-49ea-87f2-6b82b4988aa2",
   "metadata": {},
   "outputs": [
    {
     "data": {
      "text/plain": [
       "array([[False, False, False, False, False],\n",
       "       [ True,  True,  True,  True, False],\n",
       "       [ True,  True, False, False, False],\n",
       "       [ True,  True, False,  True,  True]])"
      ]
     },
     "execution_count": 8,
     "metadata": {},
     "output_type": "execute_result"
    }
   ],
   "source": [
    "arr>50"
   ]
  },
  {
   "cell_type": "code",
   "execution_count": 10,
   "id": "4fca0402-0b07-4e66-84c8-1fbfe87517c5",
   "metadata": {},
   "outputs": [
    {
     "data": {
      "text/plain": [
       "array([63, 85])"
      ]
     },
     "execution_count": 10,
     "metadata": {},
     "output_type": "execute_result"
    }
   ],
   "source": [
    "arr[(arr>50) & (arr%2!=0)]"
   ]
  },
  {
   "cell_type": "code",
   "execution_count": 12,
   "id": "1804c499-2903-48c5-80d0-5fef5abaa9bf",
   "metadata": {},
   "outputs": [],
   "source": [
    "arr[(arr>50) & (arr%2!=0)] = 0"
   ]
  },
  {
   "cell_type": "code",
   "execution_count": 14,
   "id": "e731c9cb-fc2c-42c6-aafb-92f697829f39",
   "metadata": {},
   "outputs": [
    {
     "data": {
      "text/plain": [
       "array([[ 1, 14, 23, 37,  6],\n",
       "       [96, 80, 76, 66, 48],\n",
       "       [94, 84, 21, 15,  7],\n",
       "       [ 0,  0, 24, 62, 64]])"
      ]
     },
     "execution_count": 14,
     "metadata": {},
     "output_type": "execute_result"
    }
   ],
   "source": [
    "arr"
   ]
  },
  {
   "cell_type": "code",
   "execution_count": null,
   "id": "cf980f69-a880-43a4-97cb-1d8856e3af22",
   "metadata": {},
   "outputs": [],
   "source": []
  }
 ],
 "metadata": {
  "kernelspec": {
   "display_name": "Python 3 (ipykernel)",
   "language": "python",
   "name": "python3"
  },
  "language_info": {
   "codemirror_mode": {
    "name": "ipython",
    "version": 3
   },
   "file_extension": ".py",
   "mimetype": "text/x-python",
   "name": "python",
   "nbconvert_exporter": "python",
   "pygments_lexer": "ipython3",
   "version": "3.11.7"
  }
 },
 "nbformat": 4,
 "nbformat_minor": 5
}
