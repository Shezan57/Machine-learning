{
 "cells": [
  {
   "cell_type": "code",
   "execution_count": 2,
   "id": "2bb2e0e6-ebb3-46e6-b0ec-c4f29a2b132a",
   "metadata": {},
   "outputs": [],
   "source": [
    "import numpy as np"
   ]
  },
  {
   "cell_type": "code",
   "execution_count": 6,
   "id": "7abea02f-40f2-44ae-83e3-5b16f9258909",
   "metadata": {},
   "outputs": [
    {
     "data": {
      "text/plain": [
       "0.019016400002854206"
      ]
     },
     "execution_count": 6,
     "metadata": {},
     "output_type": "execute_result"
    }
   ],
   "source": [
    "np.random.random()"
   ]
  },
  {
   "cell_type": "code",
   "execution_count": 10,
   "id": "c5abcb55-0d27-4910-98dd-1fb43cb4d083",
   "metadata": {},
   "outputs": [
    {
     "data": {
      "text/plain": [
       "0.3745401188473625"
      ]
     },
     "execution_count": 10,
     "metadata": {},
     "output_type": "execute_result"
    }
   ],
   "source": [
    "# get constant value using seed\n",
    "np.random.seed(42)\n",
    "np.random.random()"
   ]
  },
  {
   "cell_type": "code",
   "execution_count": 6,
   "id": "b00d2035-748c-48d2-b02a-a05b20d1d99d",
   "metadata": {},
   "outputs": [
    {
     "data": {
      "text/plain": [
       "7.4322728177501345"
      ]
     },
     "execution_count": 6,
     "metadata": {},
     "output_type": "execute_result"
    }
   ],
   "source": [
    "#  random float number in a given range\n",
    "np.random.uniform(3,10)"
   ]
  },
  {
   "cell_type": "code",
   "execution_count": 10,
   "id": "85c826a3-6331-4c78-9c15-4c4263e904c7",
   "metadata": {},
   "outputs": [
    {
     "data": {
      "text/plain": [
       "array([[93.96495861, 75.80124952, 63.07286239, 68.69826623],\n",
       "       [66.64820563, 71.31486144, 63.07442949, 61.48014569],\n",
       "       [92.60752679, 63.55366223, 86.13688974, 52.82299173]])"
      ]
     },
     "execution_count": 10,
     "metadata": {},
     "output_type": "execute_result"
    }
   ],
   "source": [
    "# n random float values\n",
    "np.random.uniform(50,100,12).reshape(3,4) # here 12 random values range of 50 to 100\n",
    "                                        # using reshape we can make matrix"
   ]
  },
  {
   "cell_type": "code",
   "execution_count": 12,
   "id": "50940468-551a-4844-a1da-1b73cae97784",
   "metadata": {},
   "outputs": [
    {
     "data": {
      "text/plain": [
       "6"
      ]
     },
     "execution_count": 12,
     "metadata": {},
     "output_type": "execute_result"
    }
   ],
   "source": [
    "# random int values\n",
    "np.random.randint(1,15)"
   ]
  },
  {
   "cell_type": "code",
   "execution_count": 14,
   "id": "4a2aa24c-ddb5-4a9f-83d1-adb7e3f90ac1",
   "metadata": {},
   "outputs": [
    {
     "data": {
      "text/plain": [
       "array([[13,  5],\n",
       "       [15,  9],\n",
       "       [12, 15],\n",
       "       [ 9,  7]])"
      ]
     },
     "execution_count": 14,
     "metadata": {},
     "output_type": "execute_result"
    }
   ],
   "source": [
    "np.random.randint(3,18,8).reshape(4,2)"
   ]
  },
  {
   "cell_type": "code",
   "execution_count": 16,
   "id": "209b3d73-5657-4380-94d6-77416e3debb2",
   "metadata": {},
   "outputs": [],
   "source": [
    "a = np.random.randint(1,10,6)"
   ]
  },
  {
   "cell_type": "code",
   "execution_count": 24,
   "id": "749ad254-82c2-4da0-8db8-6b97de65dd34",
   "metadata": {},
   "outputs": [
    {
     "data": {
      "text/plain": [
       "array([8, 4, 6, 7, 5, 2])"
      ]
     },
     "execution_count": 24,
     "metadata": {},
     "output_type": "execute_result"
    }
   ],
   "source": [
    "a"
   ]
  },
  {
   "cell_type": "code",
   "execution_count": 18,
   "id": "c164fccc-ff15-4a47-9055-be7773a80001",
   "metadata": {},
   "outputs": [
    {
     "data": {
      "text/plain": [
       "8"
      ]
     },
     "execution_count": 18,
     "metadata": {},
     "output_type": "execute_result"
    }
   ],
   "source": [
    "np.max(a)"
   ]
  },
  {
   "cell_type": "code",
   "execution_count": 20,
   "id": "844e6c5d-22ca-4c03-976b-1904893a1460",
   "metadata": {},
   "outputs": [
    {
     "data": {
      "text/plain": [
       "5.333333333333333"
      ]
     },
     "execution_count": 20,
     "metadata": {},
     "output_type": "execute_result"
    }
   ],
   "source": [
    "np.mean(a)"
   ]
  },
  {
   "cell_type": "code",
   "execution_count": 28,
   "id": "fe0d2d19-4808-4ac0-96eb-d3492eb1f235",
   "metadata": {},
   "outputs": [
    {
     "data": {
      "text/plain": [
       "0"
      ]
     },
     "execution_count": 28,
     "metadata": {},
     "output_type": "execute_result"
    }
   ],
   "source": [
    "np.argmax(a)"
   ]
  },
  {
   "cell_type": "code",
   "execution_count": 30,
   "id": "6b5ba445-28e6-43d6-aedc-d761e4af01bd",
   "metadata": {},
   "outputs": [
    {
     "data": {
      "text/plain": [
       "8"
      ]
     },
     "execution_count": 30,
     "metadata": {},
     "output_type": "execute_result"
    }
   ],
   "source": [
    "a[np.argmax(a)]"
   ]
  },
  {
   "cell_type": "code",
   "execution_count": 32,
   "id": "b14eaacc-52f5-4ab7-9461-01147ed0c9cb",
   "metadata": {},
   "outputs": [
    {
     "data": {
      "text/plain": [
       "5"
      ]
     },
     "execution_count": 32,
     "metadata": {},
     "output_type": "execute_result"
    }
   ],
   "source": [
    "np.argmin(a)"
   ]
  },
  {
   "cell_type": "code",
   "execution_count": 34,
   "id": "180ed556-a9bd-4152-81af-48e56ce5b5a1",
   "metadata": {},
   "outputs": [
    {
     "data": {
      "text/plain": [
       "2"
      ]
     },
     "execution_count": 34,
     "metadata": {},
     "output_type": "execute_result"
    }
   ],
   "source": [
    "a[np.argmin(a)]"
   ]
  },
  {
   "cell_type": "code",
   "execution_count": 36,
   "id": "70d4d096-6e95-44a0-b7c0-bef555e4ffc3",
   "metadata": {},
   "outputs": [],
   "source": [
    "b = np.random.randint(1,15,7)"
   ]
  },
  {
   "cell_type": "code",
   "execution_count": 38,
   "id": "832803a9-8272-49d2-a479-fdb797302f51",
   "metadata": {},
   "outputs": [
    {
     "data": {
      "text/plain": [
       "array([11, 10,  5, 10,  5,  7,  7])"
      ]
     },
     "execution_count": 38,
     "metadata": {},
     "output_type": "execute_result"
    }
   ],
   "source": [
    "b"
   ]
  },
  {
   "cell_type": "code",
   "execution_count": 40,
   "id": "e2822cb8-81da-4c2e-8a0b-3137e18ab6e1",
   "metadata": {},
   "outputs": [],
   "source": [
    "b[b%2==1]=-1"
   ]
  },
  {
   "cell_type": "code",
   "execution_count": 42,
   "id": "50992a4e-cbe0-4c60-8dcf-6163e659d745",
   "metadata": {},
   "outputs": [
    {
     "data": {
      "text/plain": [
       "array([-1, 10, -1, 10, -1, -1, -1])"
      ]
     },
     "execution_count": 42,
     "metadata": {},
     "output_type": "execute_result"
    }
   ],
   "source": [
    "b"
   ]
  },
  {
   "cell_type": "code",
   "execution_count": 44,
   "id": "2bbcf591-3fb7-42a4-b018-dc66e3df014e",
   "metadata": {},
   "outputs": [
    {
     "data": {
      "text/plain": [
       "array([ 5, 22, 45,  9, 16, 26, 11, 35])"
      ]
     },
     "execution_count": 44,
     "metadata": {},
     "output_type": "execute_result"
    }
   ],
   "source": [
    "c = np.random.randint(5,50,8)\n",
    "c"
   ]
  },
  {
   "cell_type": "code",
   "execution_count": 52,
   "id": "c513a16a-f2a1-48e8-ad7f-ef07bede6f22",
   "metadata": {},
   "outputs": [
    {
     "data": {
      "text/plain": [
       "array([-1, 22, -1, -1, 16, 26, -1, -1])"
      ]
     },
     "execution_count": 52,
     "metadata": {},
     "output_type": "execute_result"
    }
   ],
   "source": [
    "out = np.where(c%2==1,-1,c)\n",
    "out"
   ]
  },
  {
   "cell_type": "code",
   "execution_count": 48,
   "id": "84867812-5633-472d-ab02-0ab534a545c7",
   "metadata": {},
   "outputs": [
    {
     "data": {
      "text/plain": [
       "array([ 5, 22, 45,  9, 16, 26, 11, 35])"
      ]
     },
     "execution_count": 48,
     "metadata": {},
     "output_type": "execute_result"
    }
   ],
   "source": [
    "c"
   ]
  },
  {
   "cell_type": "code",
   "execution_count": 54,
   "id": "acf7834d-ad67-4d59-9eb9-848912e4321f",
   "metadata": {},
   "outputs": [
    {
     "data": {
      "text/plain": [
       "array([ 5,  9, 11, 16, 22, 26, 35, 45])"
      ]
     },
     "execution_count": 54,
     "metadata": {},
     "output_type": "execute_result"
    }
   ],
   "source": [
    " np.sort(c)"
   ]
  },
  {
   "cell_type": "code",
   "execution_count": 62,
   "id": "3a1f5580-ebe0-4152-9734-d2fa57ee8caa",
   "metadata": {},
   "outputs": [
    {
     "data": {
      "text/plain": [
       "22.8"
      ]
     },
     "execution_count": 62,
     "metadata": {},
     "output_type": "execute_result"
    }
   ],
   "source": [
    "np.percentile(c,60)"
   ]
  },
  {
   "cell_type": "code",
   "execution_count": null,
   "id": "b429b5d4-65ab-4c4f-851f-d6a82e8a6cc2",
   "metadata": {},
   "outputs": [],
   "source": []
  }
 ],
 "metadata": {
  "kernelspec": {
   "display_name": "Python 3 (ipykernel)",
   "language": "python",
   "name": "python3"
  },
  "language_info": {
   "codemirror_mode": {
    "name": "ipython",
    "version": 3
   },
   "file_extension": ".py",
   "mimetype": "text/x-python",
   "name": "python",
   "nbconvert_exporter": "python",
   "pygments_lexer": "ipython3",
   "version": "3.11.7"
  }
 },
 "nbformat": 4,
 "nbformat_minor": 5
}
