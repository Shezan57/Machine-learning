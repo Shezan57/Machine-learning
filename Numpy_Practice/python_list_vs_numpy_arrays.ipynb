{
 "cells": [
  {
   "cell_type": "markdown",
   "id": "5babfb29-0509-40c7-8c25-62fa0db97920",
   "metadata": {},
   "source": [
    "# Memory Occupy"
   ]
  },
  {
   "cell_type": "code",
   "execution_count": 2,
   "id": "64c020e1-a189-4f56-b3ad-3cd8382113f0",
   "metadata": {},
   "outputs": [],
   "source": [
    "import numpy as np"
   ]
  },
  {
   "cell_type": "code",
   "execution_count": 4,
   "id": "84ab39a9-aff7-49a0-845a-9b4e69b79614",
   "metadata": {},
   "outputs": [],
   "source": [
    "lista = list(range(100))\n",
    "arr1 = np.arange(100)"
   ]
  },
  {
   "cell_type": "code",
   "execution_count": 6,
   "id": "882a31db-b7cb-41f5-a443-5878c7ed4582",
   "metadata": {},
   "outputs": [],
   "source": [
    "import sys"
   ]
  },
  {
   "cell_type": "code",
   "execution_count": 8,
   "id": "8452216d-8964-43df-994c-e1803723d971",
   "metadata": {},
   "outputs": [
    {
     "name": "stdout",
     "output_type": "stream",
     "text": [
      "2800\n"
     ]
    }
   ],
   "source": [
    "print(sys.getsizeof(87)*len(lista))"
   ]
  },
  {
   "cell_type": "code",
   "execution_count": 10,
   "id": "52108f53-25db-4d63-a770-863252d2e312",
   "metadata": {},
   "outputs": [
    {
     "name": "stdout",
     "output_type": "stream",
     "text": [
      "400\n"
     ]
    }
   ],
   "source": [
    "print(arr1.itemsize*arr1.size)"
   ]
  },
  {
   "cell_type": "markdown",
   "id": "2b22e3f3-1e68-4e86-be20-a3bdc74cd61c",
   "metadata": {},
   "source": [
    "# Time complexity and easy to write"
   ]
  },
  {
   "cell_type": "code",
   "execution_count": 12,
   "id": "daa1a09d-d8db-4ca3-afbe-a2f63c37791e",
   "metadata": {},
   "outputs": [],
   "source": [
    "import time"
   ]
  },
  {
   "cell_type": "code",
   "execution_count": 38,
   "id": "c95a06e8-fe49-4893-857c-bf7ea708d742",
   "metadata": {},
   "outputs": [
    {
     "name": "stdout",
     "output_type": "stream",
     "text": [
      "0.8079109191894531\n"
     ]
    }
   ],
   "source": [
    "x = range(10000000)\n",
    "y = range(10000000,20000000)\n",
    "\n",
    "start_time = time.time()\n",
    "c = [(x+y) for x,y in zip(x,y)]\n",
    "print(time.time() - start_time)"
   ]
  },
  {
   "cell_type": "code",
   "execution_count": 40,
   "id": "a98ecad0-dfd7-4875-8051-bb6d56ad29af",
   "metadata": {},
   "outputs": [
    {
     "name": "stdout",
     "output_type": "stream",
     "text": [
      "0.06800079345703125\n"
     ]
    }
   ],
   "source": [
    "a = np.arange(10000000)\n",
    "b = np.arange(10000000,20000000)\n",
    "\n",
    "start_time1 = time.time()\n",
    "d = a+b\n",
    "print(time.time() - start_time1)"
   ]
  },
  {
   "cell_type": "code",
   "execution_count": 22,
   "id": "2af7030e-6487-4eca-b08d-72c4b38be0e7",
   "metadata": {},
   "outputs": [
    {
     "data": {
      "text/plain": [
       "(100000,)"
      ]
     },
     "execution_count": 22,
     "metadata": {},
     "output_type": "execute_result"
    }
   ],
   "source": [
    "d.shape"
   ]
  },
  {
   "cell_type": "code",
   "execution_count": null,
   "id": "d0bbed43-7b9d-4560-b138-5a62cf0db647",
   "metadata": {},
   "outputs": [],
   "source": []
  }
 ],
 "metadata": {
  "kernelspec": {
   "display_name": "Python 3 (ipykernel)",
   "language": "python",
   "name": "python3"
  },
  "language_info": {
   "codemirror_mode": {
    "name": "ipython",
    "version": 3
   },
   "file_extension": ".py",
   "mimetype": "text/x-python",
   "name": "python",
   "nbconvert_exporter": "python",
   "pygments_lexer": "ipython3",
   "version": "3.11.7"
  }
 },
 "nbformat": 4,
 "nbformat_minor": 5
}
