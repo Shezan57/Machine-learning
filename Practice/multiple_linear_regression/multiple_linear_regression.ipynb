{
 "cells": [
  {
   "cell_type": "markdown",
   "id": "dcd4c1ef-3e0f-46d9-a7d5-359c4d885302",
   "metadata": {},
   "source": [
    "# Generate Dataset"
   ]
  },
  {
   "cell_type": "code",
   "execution_count": 50,
   "id": "e53fb7fd-0d63-4571-ad21-989407ee1176",
   "metadata": {},
   "outputs": [],
   "source": [
    "from sklearn.datasets import make_regression\n",
    "import pandas as pd\n",
    "import numpy as np\n",
    "import plotly.express as px\n",
    "import plotly.graph_objects as go\n",
    "from sklearn.metrics import mean_absolute_error,mean_squared_error,r2_score"
   ]
  },
  {
   "cell_type": "code",
   "execution_count": 52,
   "id": "7acdcabe-40c7-436a-9967-b486d74a9b5c",
   "metadata": {},
   "outputs": [],
   "source": [
    "X,y = make_regression(n_samples=100,n_features=2,n_informative=2,n_targets=1,noise=50)"
   ]
  },
  {
   "cell_type": "code",
   "execution_count": 54,
   "id": "83655ebd-40ec-436f-a168-972f8c47525f",
   "metadata": {},
   "outputs": [],
   "source": [
    "df = pd.DataFrame({'feature1':X[:,0],'feature2':X[:,1],'target':y})"
   ]
  },
  {
   "cell_type": "code",
   "execution_count": 56,
   "id": "d794d93e-761a-4a93-9561-e3b0093e9c89",
   "metadata": {},
   "outputs": [
    {
     "data": {
      "text/plain": [
       "(100, 3)"
      ]
     },
     "execution_count": 56,
     "metadata": {},
     "output_type": "execute_result"
    }
   ],
   "source": [
    "df.shape"
   ]
  },
  {
   "cell_type": "code",
   "execution_count": 58,
   "id": "c097e178-6019-4616-afe4-5c702615de37",
   "metadata": {},
   "outputs": [
    {
     "data": {
      "text/html": [
       "<div>\n",
       "<style scoped>\n",
       "    .dataframe tbody tr th:only-of-type {\n",
       "        vertical-align: middle;\n",
       "    }\n",
       "\n",
       "    .dataframe tbody tr th {\n",
       "        vertical-align: top;\n",
       "    }\n",
       "\n",
       "    .dataframe thead th {\n",
       "        text-align: right;\n",
       "    }\n",
       "</style>\n",
       "<table border=\"1\" class=\"dataframe\">\n",
       "  <thead>\n",
       "    <tr style=\"text-align: right;\">\n",
       "      <th></th>\n",
       "      <th>feature1</th>\n",
       "      <th>feature2</th>\n",
       "      <th>target</th>\n",
       "    </tr>\n",
       "  </thead>\n",
       "  <tbody>\n",
       "    <tr>\n",
       "      <th>0</th>\n",
       "      <td>-1.845695</td>\n",
       "      <td>-0.043112</td>\n",
       "      <td>-61.334166</td>\n",
       "    </tr>\n",
       "    <tr>\n",
       "      <th>1</th>\n",
       "      <td>-0.193096</td>\n",
       "      <td>1.377584</td>\n",
       "      <td>65.351984</td>\n",
       "    </tr>\n",
       "    <tr>\n",
       "      <th>2</th>\n",
       "      <td>-0.915667</td>\n",
       "      <td>-0.541202</td>\n",
       "      <td>-59.320821</td>\n",
       "    </tr>\n",
       "    <tr>\n",
       "      <th>3</th>\n",
       "      <td>0.148817</td>\n",
       "      <td>-0.649364</td>\n",
       "      <td>-76.503920</td>\n",
       "    </tr>\n",
       "    <tr>\n",
       "      <th>4</th>\n",
       "      <td>-0.359608</td>\n",
       "      <td>-0.292786</td>\n",
       "      <td>-50.288714</td>\n",
       "    </tr>\n",
       "  </tbody>\n",
       "</table>\n",
       "</div>"
      ],
      "text/plain": [
       "   feature1  feature2     target\n",
       "0 -1.845695 -0.043112 -61.334166\n",
       "1 -0.193096  1.377584  65.351984\n",
       "2 -0.915667 -0.541202 -59.320821\n",
       "3  0.148817 -0.649364 -76.503920\n",
       "4 -0.359608 -0.292786 -50.288714"
      ]
     },
     "execution_count": 58,
     "metadata": {},
     "output_type": "execute_result"
    }
   ],
   "source": [
    "df.head()"
   ]
  },
  {
   "cell_type": "markdown",
   "id": "2f3175c7-e3bc-4f55-8ab0-4593cef30442",
   "metadata": {},
   "source": [
    "# Visualization"
   ]
  },
  {
   "cell_type": "code",
   "execution_count": 61,
   "id": "730dcce2-2efd-45fd-a99c-71b45e7cc53d",
   "metadata": {},
   "outputs": [
    {
     "data": {
      "application/vnd.plotly.v1+json": {
       "config": {
        "plotlyServerURL": "https://plot.ly"
       },
       "data": [
        {
         "hovertemplate": "feature1=%{x}<br>feature2=%{y}<br>target=%{z}<extra></extra>",
         "legendgroup": "",
         "marker": {
          "color": "#636efa",
          "symbol": "circle"
         },
         "mode": "markers",
         "name": "",
         "scene": "scene",
         "showlegend": false,
         "type": "scatter3d",
         "x": [
          -1.8456946248755142,
          -0.19309608868910158,
          -0.9156669407426355,
          0.14881690864574637,
          -0.3596079959685635,
          0.2697634069640577,
          -0.7819440698102297,
          1.3472012451211706,
          -1.0147194742901735,
          -1.2556022529082158,
          -1.9466904730976333,
          -2.2962909801161424,
          -0.2317039099007369,
          -0.015060625708585126,
          -1.0156778693779822,
          -0.8471328186744765,
          1.0778442803968478,
          -1.3147657274831284,
          -2.72205969432374,
          -0.735510790565516,
          0.516982141020762,
          -1.3086571341113429,
          0.4647219699116142,
          0.36960477457848634,
          0.6110631129258204,
          -0.7932184530464367,
          0.1714281381559956,
          -0.31148989831100016,
          0.6984876282027479,
          0.4506028023364074,
          -1.6153376659150938,
          0.45685983318883716,
          -0.0853231150064832,
          0.37973563349888584,
          -0.3373504713074844,
          -0.2074589445936436,
          0.1286623713585328,
          -0.5132031251863796,
          0.9151748200663002,
          1.5313420839899783,
          -1.8862185409809564,
          -2.332639480035969,
          -2.6874078728380857,
          0.6642607563597568,
          -0.149873196031015,
          -0.5944951679098365,
          1.732378366230447,
          -2.296697711726216,
          0.3973571081084265,
          1.070578446166814,
          -0.3714215773744206,
          0.6153530892979763,
          0.44584886622541575,
          -0.5268430922016197,
          0.4513230062347911,
          -1.675381500892662,
          -0.6132918721841734,
          1.2240229614856464,
          -1.9466147284517512,
          0.833423226384621,
          -0.21777746845519336,
          0.01670608222624324,
          -0.8215079448474607,
          1.1904964501981694,
          -0.642912504597374,
          0.07465800809876229,
          -0.9076455897001194,
          -0.5889378537724718,
          -1.1028993758423866,
          0.013140273708426305,
          0.3383668415697286,
          -0.8946341886018743,
          -2.1053109275290587,
          -0.21080130080145063,
          0.21944164381589687,
          0.7907802976739802,
          0.056463779670752286,
          -0.1262444409874152,
          -0.7780849272772562,
          0.7500906846823567,
          -0.5799563543984302,
          -1.372000351549439,
          0.34584253793079306,
          1.6079150769012633,
          -1.8977467304659938,
          -1.387129541030016,
          0.12241784581303268,
          -0.25575633060307223,
          -0.26035301626883817,
          -0.2503903597442384,
          0.3097938377449125,
          -0.4037059106665902,
          -0.4702207726524023,
          -0.1760835797351542,
          1.4246339552789045,
          0.4188368243748251,
          0.33744610074755954,
          1.936929739712266,
          1.0595712013558982,
          -0.7675273031180253
         ],
         "y": [
          -0.043111548659338896,
          1.3775838845375457,
          -0.5412016949747466,
          -0.6493637410531858,
          -0.29278574191779483,
          0.34995644193708864,
          0.270048897218681,
          -0.025430871337359665,
          0.9134541367248624,
          1.0033228674066472,
          0.8166646630851431,
          -0.10841458602085711,
          -1.0096120634986803,
          1.2069252843528542,
          -0.3544243276096087,
          1.5113697032843407,
          1.175074915715877,
          -1.0711900618702652,
          -0.25104654381449365,
          0.1105207311864696,
          0.9698398318634562,
          0.5711398264622528,
          0.8053859429958115,
          -0.6302301843364421,
          0.22981469725255435,
          0.4756997402728118,
          0.22520047952402886,
          -2.435069224101573,
          -0.14458806352864995,
          1.2227823017407826,
          0.6286390033551432,
          -0.06914069933761466,
          -1.62151756537282,
          -0.7063760694617414,
          -0.37154608133254097,
          0.30044878318236684,
          -1.0637292713285798,
          -0.5917740072595331,
          -0.06257014099538072,
          -0.389140545237311,
          0.46807357686027334,
          -0.11637725391109904,
          -1.186749652819054,
          0.6699291014706767,
          -0.3346736256267089,
          -0.918862096253567,
          -1.039756932419341,
          0.1174672170423864,
          0.7292378493834545,
          1.1690606441535256,
          -1.4178814561061082,
          0.4351338032777465,
          0.6039669074510308,
          0.05290227219226236,
          -0.9990083371213845,
          -0.36293239323413196,
          -0.5013674055243813,
          -1.0629629973159769,
          0.027531478656581905,
          -3.132852002941739,
          0.41219567531827855,
          -0.055354449615901004,
          0.05214047547258642,
          0.894969031977573,
          0.09912259983238317,
          -0.34927755506313896,
          -1.125130566431253,
          0.16526330141207676,
          -0.47823897438673113,
          -1.498967602226194,
          -0.09229639932599573,
          2.4948549605480403,
          1.0881144136392078,
          -0.6590615693495824,
          -1.2482084674407312,
          0.032559845555377366,
          -0.35784524805815754,
          -0.7498181347081354,
          0.7427017525074329,
          -0.8505230470964052,
          -0.7417294985490399,
          -0.3246850310394491,
          -1.1168547357108598,
          0.7909361446010553,
          2.310614067080067,
          0.6993597674538927,
          -2.656936275524522,
          -0.012825144184356648,
          -0.2211083891781959,
          -0.9603560812472489,
          -0.899341475386399,
          -0.20369683863355054,
          1.3873219148786704,
          1.290767236495156,
          0.5670085995801293,
          0.32130173668147705,
          -1.7763777422034164,
          -1.4200007694569796,
          -0.2691570566472565,
          0.6531692161988709
         ],
         "z": [
          -61.334165957950596,
          65.35198356356742,
          -59.32082093133427,
          -76.50392011007968,
          -50.28871400355719,
          28.07371220235149,
          -29.358369423265614,
          55.851671688567876,
          88.28023001064768,
          94.4949046078713,
          -51.41938446206042,
          -132.6503454108315,
          -54.35865850570718,
          65.51327800730444,
          -112.13269291951089,
          115.44438527427737,
          53.93493735538476,
          -117.86525512719192,
          -73.05274152764216,
          -43.10786254185391,
          51.846426781480375,
          -23.399373758054935,
          59.14132755557228,
          8.267246334266659,
          83.02951063721744,
          72.13292814329802,
          86.46294009925052,
          -122.24019372223131,
          15.740420752772174,
          142.3069299662079,
          114.40663951872558,
          -38.57461982764775,
          -84.73981080671314,
          -39.9521032355324,
          -14.09725267851352,
          57.24686868329475,
          -75.24254981224662,
          -0.07598482599811263,
          21.758153045166043,
          25.89169655235319,
          13.366917748013213,
          -66.39445956476735,
          -148.47420679739443,
          121.54036077039768,
          -86.73150721618728,
          -69.04693466522943,
          57.82774577406453,
          -50.132868616798376,
          20.21309285129172,
          44.63967522582926,
          -91.8761261017863,
          70.69910657579547,
          161.04518833604047,
          59.684408039484914,
          3.9435556849726794,
          14.253227361946486,
          -61.32161156589264,
          -47.48480981291403,
          10.188600347194068,
          -218.00024062416765,
          48.321114015627835,
          -14.245029881831892,
          -60.37645766187241,
          85.43622457179761,
          50.373597726529,
          -5.742336739226637,
          -150.85782886156318,
          41.29254840597552,
          -63.95755562275673,
          -154.6468510492558,
          13.053107452977123,
          127.11902351771106,
          64.85529846986562,
          -137.50665588747034,
          -120.315721887508,
          48.3637379809098,
          40.97503063176613,
          -81.82696137954207,
          56.28451045073111,
          3.5593642548414266,
          -127.96473628203637,
          -89.32652071913718,
          -75.58016310363124,
          115.94614958718105,
          152.37901770721794,
          0.13344926228184661,
          -132.00316152927633,
          -41.12078539658504,
          -54.885246422092244,
          -100.78574850369496,
          -49.727639069475984,
          22.63436227318549,
          87.6321997694801,
          67.52509296978468,
          78.01996674848235,
          -60.72795818528613,
          -106.12861428898299,
          -141.33633777027387,
          42.305253691339296,
          97.39120842288753
         ]
        }
       ],
       "layout": {
        "autosize": true,
        "legend": {
         "tracegroupgap": 0
        },
        "margin": {
         "t": 60
        },
        "scene": {
         "aspectmode": "auto",
         "aspectratio": {
          "x": 1,
          "y": 1,
          "z": 1
         },
         "domain": {
          "x": [
           0,
           1
          ],
          "y": [
           0,
           1
          ]
         },
         "xaxis": {
          "title": {
           "text": "feature1"
          },
          "type": "linear"
         },
         "yaxis": {
          "title": {
           "text": "feature2"
          },
          "type": "linear"
         },
         "zaxis": {
          "title": {
           "text": "target"
          },
          "type": "linear"
         }
        },
        "template": {
         "data": {
          "bar": [
           {
            "error_x": {
             "color": "#2a3f5f"
            },
            "error_y": {
             "color": "#2a3f5f"
            },
            "marker": {
             "line": {
              "color": "#E5ECF6",
              "width": 0.5
             },
             "pattern": {
              "fillmode": "overlay",
              "size": 10,
              "solidity": 0.2
             }
            },
            "type": "bar"
           }
          ],
          "barpolar": [
           {
            "marker": {
             "line": {
              "color": "#E5ECF6",
              "width": 0.5
             },
             "pattern": {
              "fillmode": "overlay",
              "size": 10,
              "solidity": 0.2
             }
            },
            "type": "barpolar"
           }
          ],
          "carpet": [
           {
            "aaxis": {
             "endlinecolor": "#2a3f5f",
             "gridcolor": "white",
             "linecolor": "white",
             "minorgridcolor": "white",
             "startlinecolor": "#2a3f5f"
            },
            "baxis": {
             "endlinecolor": "#2a3f5f",
             "gridcolor": "white",
             "linecolor": "white",
             "minorgridcolor": "white",
             "startlinecolor": "#2a3f5f"
            },
            "type": "carpet"
           }
          ],
          "choropleth": [
           {
            "colorbar": {
             "outlinewidth": 0,
             "ticks": ""
            },
            "type": "choropleth"
           }
          ],
          "contour": [
           {
            "colorbar": {
             "outlinewidth": 0,
             "ticks": ""
            },
            "colorscale": [
             [
              0,
              "#0d0887"
             ],
             [
              0.1111111111111111,
              "#46039f"
             ],
             [
              0.2222222222222222,
              "#7201a8"
             ],
             [
              0.3333333333333333,
              "#9c179e"
             ],
             [
              0.4444444444444444,
              "#bd3786"
             ],
             [
              0.5555555555555556,
              "#d8576b"
             ],
             [
              0.6666666666666666,
              "#ed7953"
             ],
             [
              0.7777777777777778,
              "#fb9f3a"
             ],
             [
              0.8888888888888888,
              "#fdca26"
             ],
             [
              1,
              "#f0f921"
             ]
            ],
            "type": "contour"
           }
          ],
          "contourcarpet": [
           {
            "colorbar": {
             "outlinewidth": 0,
             "ticks": ""
            },
            "type": "contourcarpet"
           }
          ],
          "heatmap": [
           {
            "colorbar": {
             "outlinewidth": 0,
             "ticks": ""
            },
            "colorscale": [
             [
              0,
              "#0d0887"
             ],
             [
              0.1111111111111111,
              "#46039f"
             ],
             [
              0.2222222222222222,
              "#7201a8"
             ],
             [
              0.3333333333333333,
              "#9c179e"
             ],
             [
              0.4444444444444444,
              "#bd3786"
             ],
             [
              0.5555555555555556,
              "#d8576b"
             ],
             [
              0.6666666666666666,
              "#ed7953"
             ],
             [
              0.7777777777777778,
              "#fb9f3a"
             ],
             [
              0.8888888888888888,
              "#fdca26"
             ],
             [
              1,
              "#f0f921"
             ]
            ],
            "type": "heatmap"
           }
          ],
          "heatmapgl": [
           {
            "colorbar": {
             "outlinewidth": 0,
             "ticks": ""
            },
            "colorscale": [
             [
              0,
              "#0d0887"
             ],
             [
              0.1111111111111111,
              "#46039f"
             ],
             [
              0.2222222222222222,
              "#7201a8"
             ],
             [
              0.3333333333333333,
              "#9c179e"
             ],
             [
              0.4444444444444444,
              "#bd3786"
             ],
             [
              0.5555555555555556,
              "#d8576b"
             ],
             [
              0.6666666666666666,
              "#ed7953"
             ],
             [
              0.7777777777777778,
              "#fb9f3a"
             ],
             [
              0.8888888888888888,
              "#fdca26"
             ],
             [
              1,
              "#f0f921"
             ]
            ],
            "type": "heatmapgl"
           }
          ],
          "histogram": [
           {
            "marker": {
             "pattern": {
              "fillmode": "overlay",
              "size": 10,
              "solidity": 0.2
             }
            },
            "type": "histogram"
           }
          ],
          "histogram2d": [
           {
            "colorbar": {
             "outlinewidth": 0,
             "ticks": ""
            },
            "colorscale": [
             [
              0,
              "#0d0887"
             ],
             [
              0.1111111111111111,
              "#46039f"
             ],
             [
              0.2222222222222222,
              "#7201a8"
             ],
             [
              0.3333333333333333,
              "#9c179e"
             ],
             [
              0.4444444444444444,
              "#bd3786"
             ],
             [
              0.5555555555555556,
              "#d8576b"
             ],
             [
              0.6666666666666666,
              "#ed7953"
             ],
             [
              0.7777777777777778,
              "#fb9f3a"
             ],
             [
              0.8888888888888888,
              "#fdca26"
             ],
             [
              1,
              "#f0f921"
             ]
            ],
            "type": "histogram2d"
           }
          ],
          "histogram2dcontour": [
           {
            "colorbar": {
             "outlinewidth": 0,
             "ticks": ""
            },
            "colorscale": [
             [
              0,
              "#0d0887"
             ],
             [
              0.1111111111111111,
              "#46039f"
             ],
             [
              0.2222222222222222,
              "#7201a8"
             ],
             [
              0.3333333333333333,
              "#9c179e"
             ],
             [
              0.4444444444444444,
              "#bd3786"
             ],
             [
              0.5555555555555556,
              "#d8576b"
             ],
             [
              0.6666666666666666,
              "#ed7953"
             ],
             [
              0.7777777777777778,
              "#fb9f3a"
             ],
             [
              0.8888888888888888,
              "#fdca26"
             ],
             [
              1,
              "#f0f921"
             ]
            ],
            "type": "histogram2dcontour"
           }
          ],
          "mesh3d": [
           {
            "colorbar": {
             "outlinewidth": 0,
             "ticks": ""
            },
            "type": "mesh3d"
           }
          ],
          "parcoords": [
           {
            "line": {
             "colorbar": {
              "outlinewidth": 0,
              "ticks": ""
             }
            },
            "type": "parcoords"
           }
          ],
          "pie": [
           {
            "automargin": true,
            "type": "pie"
           }
          ],
          "scatter": [
           {
            "fillpattern": {
             "fillmode": "overlay",
             "size": 10,
             "solidity": 0.2
            },
            "type": "scatter"
           }
          ],
          "scatter3d": [
           {
            "line": {
             "colorbar": {
              "outlinewidth": 0,
              "ticks": ""
             }
            },
            "marker": {
             "colorbar": {
              "outlinewidth": 0,
              "ticks": ""
             }
            },
            "type": "scatter3d"
           }
          ],
          "scattercarpet": [
           {
            "marker": {
             "colorbar": {
              "outlinewidth": 0,
              "ticks": ""
             }
            },
            "type": "scattercarpet"
           }
          ],
          "scattergeo": [
           {
            "marker": {
             "colorbar": {
              "outlinewidth": 0,
              "ticks": ""
             }
            },
            "type": "scattergeo"
           }
          ],
          "scattergl": [
           {
            "marker": {
             "colorbar": {
              "outlinewidth": 0,
              "ticks": ""
             }
            },
            "type": "scattergl"
           }
          ],
          "scattermapbox": [
           {
            "marker": {
             "colorbar": {
              "outlinewidth": 0,
              "ticks": ""
             }
            },
            "type": "scattermapbox"
           }
          ],
          "scatterpolar": [
           {
            "marker": {
             "colorbar": {
              "outlinewidth": 0,
              "ticks": ""
             }
            },
            "type": "scatterpolar"
           }
          ],
          "scatterpolargl": [
           {
            "marker": {
             "colorbar": {
              "outlinewidth": 0,
              "ticks": ""
             }
            },
            "type": "scatterpolargl"
           }
          ],
          "scatterternary": [
           {
            "marker": {
             "colorbar": {
              "outlinewidth": 0,
              "ticks": ""
             }
            },
            "type": "scatterternary"
           }
          ],
          "surface": [
           {
            "colorbar": {
             "outlinewidth": 0,
             "ticks": ""
            },
            "colorscale": [
             [
              0,
              "#0d0887"
             ],
             [
              0.1111111111111111,
              "#46039f"
             ],
             [
              0.2222222222222222,
              "#7201a8"
             ],
             [
              0.3333333333333333,
              "#9c179e"
             ],
             [
              0.4444444444444444,
              "#bd3786"
             ],
             [
              0.5555555555555556,
              "#d8576b"
             ],
             [
              0.6666666666666666,
              "#ed7953"
             ],
             [
              0.7777777777777778,
              "#fb9f3a"
             ],
             [
              0.8888888888888888,
              "#fdca26"
             ],
             [
              1,
              "#f0f921"
             ]
            ],
            "type": "surface"
           }
          ],
          "table": [
           {
            "cells": {
             "fill": {
              "color": "#EBF0F8"
             },
             "line": {
              "color": "white"
             }
            },
            "header": {
             "fill": {
              "color": "#C8D4E3"
             },
             "line": {
              "color": "white"
             }
            },
            "type": "table"
           }
          ]
         },
         "layout": {
          "annotationdefaults": {
           "arrowcolor": "#2a3f5f",
           "arrowhead": 0,
           "arrowwidth": 1
          },
          "autotypenumbers": "strict",
          "coloraxis": {
           "colorbar": {
            "outlinewidth": 0,
            "ticks": ""
           }
          },
          "colorscale": {
           "diverging": [
            [
             0,
             "#8e0152"
            ],
            [
             0.1,
             "#c51b7d"
            ],
            [
             0.2,
             "#de77ae"
            ],
            [
             0.3,
             "#f1b6da"
            ],
            [
             0.4,
             "#fde0ef"
            ],
            [
             0.5,
             "#f7f7f7"
            ],
            [
             0.6,
             "#e6f5d0"
            ],
            [
             0.7,
             "#b8e186"
            ],
            [
             0.8,
             "#7fbc41"
            ],
            [
             0.9,
             "#4d9221"
            ],
            [
             1,
             "#276419"
            ]
           ],
           "sequential": [
            [
             0,
             "#0d0887"
            ],
            [
             0.1111111111111111,
             "#46039f"
            ],
            [
             0.2222222222222222,
             "#7201a8"
            ],
            [
             0.3333333333333333,
             "#9c179e"
            ],
            [
             0.4444444444444444,
             "#bd3786"
            ],
            [
             0.5555555555555556,
             "#d8576b"
            ],
            [
             0.6666666666666666,
             "#ed7953"
            ],
            [
             0.7777777777777778,
             "#fb9f3a"
            ],
            [
             0.8888888888888888,
             "#fdca26"
            ],
            [
             1,
             "#f0f921"
            ]
           ],
           "sequentialminus": [
            [
             0,
             "#0d0887"
            ],
            [
             0.1111111111111111,
             "#46039f"
            ],
            [
             0.2222222222222222,
             "#7201a8"
            ],
            [
             0.3333333333333333,
             "#9c179e"
            ],
            [
             0.4444444444444444,
             "#bd3786"
            ],
            [
             0.5555555555555556,
             "#d8576b"
            ],
            [
             0.6666666666666666,
             "#ed7953"
            ],
            [
             0.7777777777777778,
             "#fb9f3a"
            ],
            [
             0.8888888888888888,
             "#fdca26"
            ],
            [
             1,
             "#f0f921"
            ]
           ]
          },
          "colorway": [
           "#636efa",
           "#EF553B",
           "#00cc96",
           "#ab63fa",
           "#FFA15A",
           "#19d3f3",
           "#FF6692",
           "#B6E880",
           "#FF97FF",
           "#FECB52"
          ],
          "font": {
           "color": "#2a3f5f"
          },
          "geo": {
           "bgcolor": "white",
           "lakecolor": "white",
           "landcolor": "#E5ECF6",
           "showlakes": true,
           "showland": true,
           "subunitcolor": "white"
          },
          "hoverlabel": {
           "align": "left"
          },
          "hovermode": "closest",
          "mapbox": {
           "style": "light"
          },
          "paper_bgcolor": "white",
          "plot_bgcolor": "#E5ECF6",
          "polar": {
           "angularaxis": {
            "gridcolor": "white",
            "linecolor": "white",
            "ticks": ""
           },
           "bgcolor": "#E5ECF6",
           "radialaxis": {
            "gridcolor": "white",
            "linecolor": "white",
            "ticks": ""
           }
          },
          "scene": {
           "xaxis": {
            "backgroundcolor": "#E5ECF6",
            "gridcolor": "white",
            "gridwidth": 2,
            "linecolor": "white",
            "showbackground": true,
            "ticks": "",
            "zerolinecolor": "white"
           },
           "yaxis": {
            "backgroundcolor": "#E5ECF6",
            "gridcolor": "white",
            "gridwidth": 2,
            "linecolor": "white",
            "showbackground": true,
            "ticks": "",
            "zerolinecolor": "white"
           },
           "zaxis": {
            "backgroundcolor": "#E5ECF6",
            "gridcolor": "white",
            "gridwidth": 2,
            "linecolor": "white",
            "showbackground": true,
            "ticks": "",
            "zerolinecolor": "white"
           }
          },
          "shapedefaults": {
           "line": {
            "color": "#2a3f5f"
           }
          },
          "ternary": {
           "aaxis": {
            "gridcolor": "white",
            "linecolor": "white",
            "ticks": ""
           },
           "baxis": {
            "gridcolor": "white",
            "linecolor": "white",
            "ticks": ""
           },
           "bgcolor": "#E5ECF6",
           "caxis": {
            "gridcolor": "white",
            "linecolor": "white",
            "ticks": ""
           }
          },
          "title": {
           "x": 0.05
          },
          "xaxis": {
           "automargin": true,
           "gridcolor": "white",
           "linecolor": "white",
           "ticks": "",
           "title": {
            "standoff": 15
           },
           "zerolinecolor": "white",
           "zerolinewidth": 2
          },
          "yaxis": {
           "automargin": true,
           "gridcolor": "white",
           "linecolor": "white",
           "ticks": "",
           "title": {
            "standoff": 15
           },
           "zerolinecolor": "white",
           "zerolinewidth": 2
          }
         }
        }
       }
      },
      "image/png": "[encoded data removed]",
      "text/html": [
       "<div>                            <div id=\"5cc05ece-aa5c-4a40-ac64-30a0106599c4\" class=\"plotly-graph-div\" style=\"height:525px; width:100%;\"></div>            <script type=\"text/javascript\">                require([\"plotly\"], function(Plotly) {                    window.PLOTLYENV=window.PLOTLYENV || {};                                    if (document.getElementById(\"5cc05ece-aa5c-4a40-ac64-30a0106599c4\")) {                    Plotly.newPlot(                        \"5cc05ece-aa5c-4a40-ac64-30a0106599c4\",                        [{\"hovertemplate\":\"feature1=%{x}<br>feature2=%{y}<br>target=%{z}<extra></extra>\",\"legendgroup\":\"\",\"marker\":{\"color\":\"#636efa\",\"symbol\":\"circle\"},\"mode\":\"markers\",\"name\":\"\",\"scene\":\"scene\",\"showlegend\":false,\"x\":[-1.8456946248755142,-0.19309608868910158,-0.9156669407426355,0.14881690864574637,-0.3596079959685635,0.2697634069640577,-0.7819440698102297,1.3472012451211706,-1.0147194742901735,-1.2556022529082158,-1.9466904730976333,-2.2962909801161424,-0.2317039099007369,-0.015060625708585126,-1.0156778693779822,-0.8471328186744765,1.0778442803968478,-1.3147657274831284,-2.72205969432374,-0.735510790565516,0.516982141020762,-1.3086571341113429,0.4647219699116142,0.36960477457848634,0.6110631129258204,-0.7932184530464367,0.1714281381559956,-0.31148989831100016,0.6984876282027479,0.4506028023364074,-1.6153376659150938,0.45685983318883716,-0.0853231150064832,0.37973563349888584,-0.3373504713074844,-0.2074589445936436,0.1286623713585328,-0.5132031251863796,0.9151748200663002,1.5313420839899783,-1.8862185409809564,-2.332639480035969,-2.6874078728380857,0.6642607563597568,-0.149873196031015,-0.5944951679098365,1.732378366230447,-2.296697711726216,0.3973571081084265,1.070578446166814,-0.3714215773744206,0.6153530892979763,0.44584886622541575,-0.5268430922016197,0.4513230062347911,-1.675381500892662,-0.6132918721841734,1.2240229614856464,-1.9466147284517512,0.833423226384621,-0.21777746845519336,0.01670608222624324,-0.8215079448474607,1.1904964501981694,-0.642912504597374,0.07465800809876229,-0.9076455897001194,-0.5889378537724718,-1.1028993758423866,0.013140273708426305,0.3383668415697286,-0.8946341886018743,-2.1053109275290587,-0.21080130080145063,0.21944164381589687,0.7907802976739802,0.056463779670752286,-0.1262444409874152,-0.7780849272772562,0.7500906846823567,-0.5799563543984302,-1.372000351549439,0.34584253793079306,1.6079150769012633,-1.8977467304659938,-1.387129541030016,0.12241784581303268,-0.25575633060307223,-0.26035301626883817,-0.2503903597442384,0.3097938377449125,-0.4037059106665902,-0.4702207726524023,-0.1760835797351542,1.4246339552789045,0.4188368243748251,0.33744610074755954,1.936929739712266,1.0595712013558982,-0.7675273031180253],\"y\":[-0.043111548659338896,1.3775838845375457,-0.5412016949747466,-0.6493637410531858,-0.29278574191779483,0.34995644193708864,0.270048897218681,-0.025430871337359665,0.9134541367248624,1.0033228674066472,0.8166646630851431,-0.10841458602085711,-1.0096120634986803,1.2069252843528542,-0.3544243276096087,1.5113697032843407,1.175074915715877,-1.0711900618702652,-0.25104654381449365,0.1105207311864696,0.9698398318634562,0.5711398264622528,0.8053859429958115,-0.6302301843364421,0.22981469725255435,0.4756997402728118,0.22520047952402886,-2.435069224101573,-0.14458806352864995,1.2227823017407826,0.6286390033551432,-0.06914069933761466,-1.62151756537282,-0.7063760694617414,-0.37154608133254097,0.30044878318236684,-1.0637292713285798,-0.5917740072595331,-0.06257014099538072,-0.389140545237311,0.46807357686027334,-0.11637725391109904,-1.186749652819054,0.6699291014706767,-0.3346736256267089,-0.918862096253567,-1.039756932419341,0.1174672170423864,0.7292378493834545,1.1690606441535256,-1.4178814561061082,0.4351338032777465,0.6039669074510308,0.05290227219226236,-0.9990083371213845,-0.36293239323413196,-0.5013674055243813,-1.0629629973159769,0.027531478656581905,-3.132852002941739,0.41219567531827855,-0.055354449615901004,0.05214047547258642,0.894969031977573,0.09912259983238317,-0.34927755506313896,-1.125130566431253,0.16526330141207676,-0.47823897438673113,-1.498967602226194,-0.09229639932599573,2.4948549605480403,1.0881144136392078,-0.6590615693495824,-1.2482084674407312,0.032559845555377366,-0.35784524805815754,-0.7498181347081354,0.7427017525074329,-0.8505230470964052,-0.7417294985490399,-0.3246850310394491,-1.1168547357108598,0.7909361446010553,2.310614067080067,0.6993597674538927,-2.656936275524522,-0.012825144184356648,-0.2211083891781959,-0.9603560812472489,-0.899341475386399,-0.20369683863355054,1.3873219148786704,1.290767236495156,0.5670085995801293,0.32130173668147705,-1.7763777422034164,-1.4200007694569796,-0.2691570566472565,0.6531692161988709],\"z\":[-61.334165957950596,65.35198356356742,-59.32082093133427,-76.50392011007968,-50.28871400355719,28.07371220235149,-29.358369423265614,55.851671688567876,88.28023001064768,94.4949046078713,-51.41938446206042,-132.6503454108315,-54.35865850570718,65.51327800730444,-112.13269291951089,115.44438527427737,53.93493735538476,-117.86525512719192,-73.05274152764216,-43.10786254185391,51.846426781480375,-23.399373758054935,59.14132755557228,8.267246334266659,83.02951063721744,72.13292814329802,86.46294009925052,-122.24019372223131,15.740420752772174,142.3069299662079,114.40663951872558,-38.57461982764775,-84.73981080671314,-39.9521032355324,-14.09725267851352,57.24686868329475,-75.24254981224662,-0.07598482599811263,21.758153045166043,25.89169655235319,13.366917748013213,-66.39445956476735,-148.47420679739443,121.54036077039768,-86.73150721618728,-69.04693466522943,57.82774577406453,-50.132868616798376,20.21309285129172,44.63967522582926,-91.8761261017863,70.69910657579547,161.04518833604047,59.684408039484914,3.9435556849726794,14.253227361946486,-61.32161156589264,-47.48480981291403,10.188600347194068,-218.00024062416765,48.321114015627835,-14.245029881831892,-60.37645766187241,85.43622457179761,50.373597726529,-5.742336739226637,-150.85782886156318,41.29254840597552,-63.95755562275673,-154.6468510492558,13.053107452977123,127.11902351771106,64.85529846986562,-137.50665588747034,-120.315721887508,48.3637379809098,40.97503063176613,-81.82696137954207,56.28451045073111,3.5593642548414266,-127.96473628203637,-89.32652071913718,-75.58016310363124,115.94614958718105,152.37901770721794,0.13344926228184661,-132.00316152927633,-41.12078539658504,-54.885246422092244,-100.78574850369496,-49.727639069475984,22.63436227318549,87.6321997694801,67.52509296978468,78.01996674848235,-60.72795818528613,-106.12861428898299,-141.33633777027387,42.305253691339296,97.39120842288753],\"type\":\"scatter3d\"}],                        {\"template\":{\"data\":{\"histogram2dcontour\":[{\"type\":\"histogram2dcontour\",\"colorbar\":{\"outlinewidth\":0,\"ticks\":\"\"},\"colorscale\":[[0.0,\"#0d0887\"],[0.1111111111111111,\"#46039f\"],[0.2222222222222222,\"#7201a8\"],[0.3333333333333333,\"#9c179e\"],[0.4444444444444444,\"#bd3786\"],[0.5555555555555556,\"#d8576b\"],[0.6666666666666666,\"#ed7953\"],[0.7777777777777778,\"#fb9f3a\"],[0.8888888888888888,\"#fdca26\"],[1.0,\"#f0f921\"]]}],\"choropleth\":[{\"type\":\"choropleth\",\"colorbar\":{\"outlinewidth\":0,\"ticks\":\"\"}}],\"histogram2d\":[{\"type\":\"histogram2d\",\"colorbar\":{\"outlinewidth\":0,\"ticks\":\"\"},\"colorscale\":[[0.0,\"#0d0887\"],[0.1111111111111111,\"#46039f\"],[0.2222222222222222,\"#7201a8\"],[0.3333333333333333,\"#9c179e\"],[0.4444444444444444,\"#bd3786\"],[0.5555555555555556,\"#d8576b\"],[0.6666666666666666,\"#ed7953\"],[0.7777777777777778,\"#fb9f3a\"],[0.8888888888888888,\"#fdca26\"],[1.0,\"#f0f921\"]]}],\"heatmap\":[{\"type\":\"heatmap\",\"colorbar\":{\"outlinewidth\":0,\"ticks\":\"\"},\"colorscale\":[[0.0,\"#0d0887\"],[0.1111111111111111,\"#46039f\"],[0.2222222222222222,\"#7201a8\"],[0.3333333333333333,\"#9c179e\"],[0.4444444444444444,\"#bd3786\"],[0.5555555555555556,\"#d8576b\"],[0.6666666666666666,\"#ed7953\"],[0.7777777777777778,\"#fb9f3a\"],[0.8888888888888888,\"#fdca26\"],[1.0,\"#f0f921\"]]}],\"heatmapgl\":[{\"type\":\"heatmapgl\",\"colorbar\":{\"outlinewidth\":0,\"ticks\":\"\"},\"colorscale\":[[0.0,\"#0d0887\"],[0.1111111111111111,\"#46039f\"],[0.2222222222222222,\"#7201a8\"],[0.3333333333333333,\"#9c179e\"],[0.4444444444444444,\"#bd3786\"],[0.5555555555555556,\"#d8576b\"],[0.6666666666666666,\"#ed7953\"],[0.7777777777777778,\"#fb9f3a\"],[0.8888888888888888,\"#fdca26\"],[1.0,\"#f0f921\"]]}],\"contourcarpet\":[{\"type\":\"contourcarpet\",\"colorbar\":{\"outlinewidth\":0,\"ticks\":\"\"}}],\"contour\":[{\"type\":\"contour\",\"colorbar\":{\"outlinewidth\":0,\"ticks\":\"\"},\"colorscale\":[[0.0,\"#0d0887\"],[0.1111111111111111,\"#46039f\"],[0.2222222222222222,\"#7201a8\"],[0.3333333333333333,\"#9c179e\"],[0.4444444444444444,\"#bd3786\"],[0.5555555555555556,\"#d8576b\"],[0.6666666666666666,\"#ed7953\"],[0.7777777777777778,\"#fb9f3a\"],[0.8888888888888888,\"#fdca26\"],[1.0,\"#f0f921\"]]}],\"surface\":[{\"type\":\"surface\",\"colorbar\":{\"outlinewidth\":0,\"ticks\":\"\"},\"colorscale\":[[0.0,\"#0d0887\"],[0.1111111111111111,\"#46039f\"],[0.2222222222222222,\"#7201a8\"],[0.3333333333333333,\"#9c179e\"],[0.4444444444444444,\"#bd3786\"],[0.5555555555555556,\"#d8576b\"],[0.6666666666666666,\"#ed7953\"],[0.7777777777777778,\"#fb9f3a\"],[0.8888888888888888,\"#fdca26\"],[1.0,\"#f0f921\"]]}],\"mesh3d\":[{\"type\":\"mesh3d\",\"colorbar\":{\"outlinewidth\":0,\"ticks\":\"\"}}],\"scatter\":[{\"fillpattern\":{\"fillmode\":\"overlay\",\"size\":10,\"solidity\":0.2},\"type\":\"scatter\"}],\"parcoords\":[{\"type\":\"parcoords\",\"line\":{\"colorbar\":{\"outlinewidth\":0,\"ticks\":\"\"}}}],\"scatterpolargl\":[{\"type\":\"scatterpolargl\",\"marker\":{\"colorbar\":{\"outlinewidth\":0,\"ticks\":\"\"}}}],\"bar\":[{\"error_x\":{\"color\":\"#2a3f5f\"},\"error_y\":{\"color\":\"#2a3f5f\"},\"marker\":{\"line\":{\"color\":\"#E5ECF6\",\"width\":0.5},\"pattern\":{\"fillmode\":\"overlay\",\"size\":10,\"solidity\":0.2}},\"type\":\"bar\"}],\"scattergeo\":[{\"type\":\"scattergeo\",\"marker\":{\"colorbar\":{\"outlinewidth\":0,\"ticks\":\"\"}}}],\"scatterpolar\":[{\"type\":\"scatterpolar\",\"marker\":{\"colorbar\":{\"outlinewidth\":0,\"ticks\":\"\"}}}],\"histogram\":[{\"marker\":{\"pattern\":{\"fillmode\":\"overlay\",\"size\":10,\"solidity\":0.2}},\"type\":\"histogram\"}],\"scattergl\":[{\"type\":\"scattergl\",\"marker\":{\"colorbar\":{\"outlinewidth\":0,\"ticks\":\"\"}}}],\"scatter3d\":[{\"type\":\"scatter3d\",\"line\":{\"colorbar\":{\"outlinewidth\":0,\"ticks\":\"\"}},\"marker\":{\"colorbar\":{\"outlinewidth\":0,\"ticks\":\"\"}}}],\"scattermapbox\":[{\"type\":\"scattermapbox\",\"marker\":{\"colorbar\":{\"outlinewidth\":0,\"ticks\":\"\"}}}],\"scatterternary\":[{\"type\":\"scatterternary\",\"marker\":{\"colorbar\":{\"outlinewidth\":0,\"ticks\":\"\"}}}],\"scattercarpet\":[{\"type\":\"scattercarpet\",\"marker\":{\"colorbar\":{\"outlinewidth\":0,\"ticks\":\"\"}}}],\"carpet\":[{\"aaxis\":{\"endlinecolor\":\"#2a3f5f\",\"gridcolor\":\"white\",\"linecolor\":\"white\",\"minorgridcolor\":\"white\",\"startlinecolor\":\"#2a3f5f\"},\"baxis\":{\"endlinecolor\":\"#2a3f5f\",\"gridcolor\":\"white\",\"linecolor\":\"white\",\"minorgridcolor\":\"white\",\"startlinecolor\":\"#2a3f5f\"},\"type\":\"carpet\"}],\"table\":[{\"cells\":{\"fill\":{\"color\":\"#EBF0F8\"},\"line\":{\"color\":\"white\"}},\"header\":{\"fill\":{\"color\":\"#C8D4E3\"},\"line\":{\"color\":\"white\"}},\"type\":\"table\"}],\"barpolar\":[{\"marker\":{\"line\":{\"color\":\"#E5ECF6\",\"width\":0.5},\"pattern\":{\"fillmode\":\"overlay\",\"size\":10,\"solidity\":0.2}},\"type\":\"barpolar\"}],\"pie\":[{\"automargin\":true,\"type\":\"pie\"}]},\"layout\":{\"autotypenumbers\":\"strict\",\"colorway\":[\"#636efa\",\"#EF553B\",\"#00cc96\",\"#ab63fa\",\"#FFA15A\",\"#19d3f3\",\"#FF6692\",\"#B6E880\",\"#FF97FF\",\"#FECB52\"],\"font\":{\"color\":\"#2a3f5f\"},\"hovermode\":\"closest\",\"hoverlabel\":{\"align\":\"left\"},\"paper_bgcolor\":\"white\",\"plot_bgcolor\":\"#E5ECF6\",\"polar\":{\"bgcolor\":\"#E5ECF6\",\"angularaxis\":{\"gridcolor\":\"white\",\"linecolor\":\"white\",\"ticks\":\"\"},\"radialaxis\":{\"gridcolor\":\"white\",\"linecolor\":\"white\",\"ticks\":\"\"}},\"ternary\":{\"bgcolor\":\"#E5ECF6\",\"aaxis\":{\"gridcolor\":\"white\",\"linecolor\":\"white\",\"ticks\":\"\"},\"baxis\":{\"gridcolor\":\"white\",\"linecolor\":\"white\",\"ticks\":\"\"},\"caxis\":{\"gridcolor\":\"white\",\"linecolor\":\"white\",\"ticks\":\"\"}},\"coloraxis\":{\"colorbar\":{\"outlinewidth\":0,\"ticks\":\"\"}},\"colorscale\":{\"sequential\":[[0.0,\"#0d0887\"],[0.1111111111111111,\"#46039f\"],[0.2222222222222222,\"#7201a8\"],[0.3333333333333333,\"#9c179e\"],[0.4444444444444444,\"#bd3786\"],[0.5555555555555556,\"#d8576b\"],[0.6666666666666666,\"#ed7953\"],[0.7777777777777778,\"#fb9f3a\"],[0.8888888888888888,\"#fdca26\"],[1.0,\"#f0f921\"]],\"sequentialminus\":[[0.0,\"#0d0887\"],[0.1111111111111111,\"#46039f\"],[0.2222222222222222,\"#7201a8\"],[0.3333333333333333,\"#9c179e\"],[0.4444444444444444,\"#bd3786\"],[0.5555555555555556,\"#d8576b\"],[0.6666666666666666,\"#ed7953\"],[0.7777777777777778,\"#fb9f3a\"],[0.8888888888888888,\"#fdca26\"],[1.0,\"#f0f921\"]],\"diverging\":[[0,\"#8e0152\"],[0.1,\"#c51b7d\"],[0.2,\"#de77ae\"],[0.3,\"#f1b6da\"],[0.4,\"#fde0ef\"],[0.5,\"#f7f7f7\"],[0.6,\"#e6f5d0\"],[0.7,\"#b8e186\"],[0.8,\"#7fbc41\"],[0.9,\"#4d9221\"],[1,\"#276419\"]]},\"xaxis\":{\"gridcolor\":\"white\",\"linecolor\":\"white\",\"ticks\":\"\",\"title\":{\"standoff\":15},\"zerolinecolor\":\"white\",\"automargin\":true,\"zerolinewidth\":2},\"yaxis\":{\"gridcolor\":\"white\",\"linecolor\":\"white\",\"ticks\":\"\",\"title\":{\"standoff\":15},\"zerolinecolor\":\"white\",\"automargin\":true,\"zerolinewidth\":2},\"scene\":{\"xaxis\":{\"backgroundcolor\":\"#E5ECF6\",\"gridcolor\":\"white\",\"linecolor\":\"white\",\"showbackground\":true,\"ticks\":\"\",\"zerolinecolor\":\"white\",\"gridwidth\":2},\"yaxis\":{\"backgroundcolor\":\"#E5ECF6\",\"gridcolor\":\"white\",\"linecolor\":\"white\",\"showbackground\":true,\"ticks\":\"\",\"zerolinecolor\":\"white\",\"gridwidth\":2},\"zaxis\":{\"backgroundcolor\":\"#E5ECF6\",\"gridcolor\":\"white\",\"linecolor\":\"white\",\"showbackground\":true,\"ticks\":\"\",\"zerolinecolor\":\"white\",\"gridwidth\":2}},\"shapedefaults\":{\"line\":{\"color\":\"#2a3f5f\"}},\"annotationdefaults\":{\"arrowcolor\":\"#2a3f5f\",\"arrowhead\":0,\"arrowwidth\":1},\"geo\":{\"bgcolor\":\"white\",\"landcolor\":\"#E5ECF6\",\"subunitcolor\":\"white\",\"showland\":true,\"showlakes\":true,\"lakecolor\":\"white\"},\"title\":{\"x\":0.05},\"mapbox\":{\"style\":\"light\"}}},\"scene\":{\"domain\":{\"x\":[0.0,1.0],\"y\":[0.0,1.0]},\"xaxis\":{\"title\":{\"text\":\"feature1\"}},\"yaxis\":{\"title\":{\"text\":\"feature2\"}},\"zaxis\":{\"title\":{\"text\":\"target\"}}},\"legend\":{\"tracegroupgap\":0},\"margin\":{\"t\":60}},                        {\"responsive\": true}                    ).then(function(){\n",
       "                            \n",
       "var gd = document.getElementById('5cc05ece-aa5c-4a40-ac64-30a0106599c4');\n",
       "var x = new MutationObserver(function (mutations, observer) {{\n",
       "        var display = window.getComputedStyle(gd).display;\n",
       "        if (!display || display === 'none') {{\n",
       "            console.log([gd, 'removed!']);\n",
       "            Plotly.purge(gd);\n",
       "            observer.disconnect();\n",
       "        }}\n",
       "}});\n",
       "\n",
       "// Listen for the removal of the full notebook cells\n",
       "var notebookContainer = gd.closest('#notebook-container');\n",
       "if (notebookContainer) {{\n",
       "    x.observe(notebookContainer, {childList: true});\n",
       "}}\n",
       "\n",
       "// Listen for the clearing of the current output cell\n",
       "var outputEl = gd.closest('.output');\n",
       "if (outputEl) {{\n",
       "    x.observe(outputEl, {childList: true});\n",
       "}}\n",
       "\n",
       "                        })                };                });            </script>        </div>"
      ]
     },
     "metadata": {},
     "output_type": "display_data"
    }
   ],
   "source": [
    "fig = px.scatter_3d(df,x='feature1',y='feature2',z='target')\n",
    "fig.show()"
   ]
  },
  {
   "cell_type": "markdown",
   "id": "6005b006-a109-42cd-b522-24a7c5d30029",
   "metadata": {},
   "source": [
    "# Train Test Split and model training"
   ]
  },
  {
   "cell_type": "code",
   "execution_count": 64,
   "id": "ef8bc2d6-eac9-4cc5-8e89-e4fc081cb04b",
   "metadata": {},
   "outputs": [],
   "source": [
    "from sklearn.model_selection import train_test_split"
   ]
  },
  {
   "cell_type": "code",
   "execution_count": 66,
   "id": "c7e7e370-a328-4bf3-a9be-b7b2bfd95501",
   "metadata": {},
   "outputs": [],
   "source": [
    "X_train,X_test,y_train,y_test = train_test_split(X,y,test_size=0.2,random_state=3)"
   ]
  },
  {
   "cell_type": "code",
   "execution_count": 68,
   "id": "b983507b-8e97-496f-a832-bae8cbe37446",
   "metadata": {},
   "outputs": [],
   "source": [
    "from sklearn.linear_model import LinearRegression"
   ]
  },
  {
   "cell_type": "code",
   "execution_count": 70,
   "id": "cfe59d8a-7887-46ea-ba4b-71d17de5d29b",
   "metadata": {},
   "outputs": [],
   "source": [
    "lr = LinearRegression()"
   ]
  },
  {
   "cell_type": "code",
   "execution_count": 72,
   "id": "0102d733-19f9-4908-8662-1d05113cfa58",
   "metadata": {},
   "outputs": [
    {
     "data": {
      "text/html": [
       "<style>#sk-container-id-3 {color: black;background-color: white;}#sk-container-id-3 pre{padding: 0;}#sk-container-id-3 div.sk-toggleable {background-color: white;}#sk-container-id-3 label.sk-toggleable__label {cursor: pointer;display: block;width: 100%;margin-bottom: 0;padding: 0.3em;box-sizing: border-box;text-align: center;}#sk-container-id-3 label.sk-toggleable__label-arrow:before {content: \"▸\";float: left;margin-right: 0.25em;color: #696969;}#sk-container-id-3 label.sk-toggleable__label-arrow:hover:before {color: black;}#sk-container-id-3 div.sk-estimator:hover label.sk-toggleable__label-arrow:before {color: black;}#sk-container-id-3 div.sk-toggleable__content {max-height: 0;max-width: 0;overflow: hidden;text-align: left;background-color: #f0f8ff;}#sk-container-id-3 div.sk-toggleable__content pre {margin: 0.2em;color: black;border-radius: 0.25em;background-color: #f0f8ff;}#sk-container-id-3 input.sk-toggleable__control:checked~div.sk-toggleable__content {max-height: 200px;max-width: 100%;overflow: auto;}#sk-container-id-3 input.sk-toggleable__control:checked~label.sk-toggleable__label-arrow:before {content: \"▾\";}#sk-container-id-3 div.sk-estimator input.sk-toggleable__control:checked~label.sk-toggleable__label {background-color: #d4ebff;}#sk-container-id-3 div.sk-label input.sk-toggleable__control:checked~label.sk-toggleable__label {background-color: #d4ebff;}#sk-container-id-3 input.sk-hidden--visually {border: 0;clip: rect(1px 1px 1px 1px);clip: rect(1px, 1px, 1px, 1px);height: 1px;margin: -1px;overflow: hidden;padding: 0;position: absolute;width: 1px;}#sk-container-id-3 div.sk-estimator {font-family: monospace;background-color: #f0f8ff;border: 1px dotted black;border-radius: 0.25em;box-sizing: border-box;margin-bottom: 0.5em;}#sk-container-id-3 div.sk-estimator:hover {background-color: #d4ebff;}#sk-container-id-3 div.sk-parallel-item::after {content: \"\";width: 100%;border-bottom: 1px solid gray;flex-grow: 1;}#sk-container-id-3 div.sk-label:hover label.sk-toggleable__label {background-color: #d4ebff;}#sk-container-id-3 div.sk-serial::before {content: \"\";position: absolute;border-left: 1px solid gray;box-sizing: border-box;top: 0;bottom: 0;left: 50%;z-index: 0;}#sk-container-id-3 div.sk-serial {display: flex;flex-direction: column;align-items: center;background-color: white;padding-right: 0.2em;padding-left: 0.2em;position: relative;}#sk-container-id-3 div.sk-item {position: relative;z-index: 1;}#sk-container-id-3 div.sk-parallel {display: flex;align-items: stretch;justify-content: center;background-color: white;position: relative;}#sk-container-id-3 div.sk-item::before, #sk-container-id-3 div.sk-parallel-item::before {content: \"\";position: absolute;border-left: 1px solid gray;box-sizing: border-box;top: 0;bottom: 0;left: 50%;z-index: -1;}#sk-container-id-3 div.sk-parallel-item {display: flex;flex-direction: column;z-index: 1;position: relative;background-color: white;}#sk-container-id-3 div.sk-parallel-item:first-child::after {align-self: flex-end;width: 50%;}#sk-container-id-3 div.sk-parallel-item:last-child::after {align-self: flex-start;width: 50%;}#sk-container-id-3 div.sk-parallel-item:only-child::after {width: 0;}#sk-container-id-3 div.sk-dashed-wrapped {border: 1px dashed gray;margin: 0 0.4em 0.5em 0.4em;box-sizing: border-box;padding-bottom: 0.4em;background-color: white;}#sk-container-id-3 div.sk-label label {font-family: monospace;font-weight: bold;display: inline-block;line-height: 1.2em;}#sk-container-id-3 div.sk-label-container {text-align: center;}#sk-container-id-3 div.sk-container {/* jupyter's `normalize.less` sets `[hidden] { display: none; }` but bootstrap.min.css set `[hidden] { display: none !important; }` so we also need the `!important` here to be able to override the default hidden behavior on the sphinx rendered scikit-learn.org. See: https://github.com/scikit-learn/scikit-learn/issues/21755 */display: inline-block !important;position: relative;}#sk-container-id-3 div.sk-text-repr-fallback {display: none;}</style><div id=\"sk-container-id-3\" class=\"sk-top-container\"><div class=\"sk-text-repr-fallback\"><pre>LinearRegression()</pre><b>In a Jupyter environment, please rerun this cell to show the HTML representation or trust the notebook. <br />On GitHub, the HTML representation is unable to render, please try loading this page with nbviewer.org.</b></div><div class=\"sk-container\" hidden><div class=\"sk-item\"><div class=\"sk-estimator sk-toggleable\"><input class=\"sk-toggleable__control sk-hidden--visually\" id=\"sk-estimator-id-3\" type=\"checkbox\" checked><label for=\"sk-estimator-id-3\" class=\"sk-toggleable__label sk-toggleable__label-arrow\">LinearRegression</label><div class=\"sk-toggleable__content\"><pre>LinearRegression()</pre></div></div></div></div></div>"
      ],
      "text/plain": [
       "LinearRegression()"
      ]
     },
     "execution_count": 72,
     "metadata": {},
     "output_type": "execute_result"
    }
   ],
   "source": [
    "lr.fit(X_train,y_train)"
   ]
  },
  {
   "cell_type": "code",
   "execution_count": 74,
   "id": "86997230-f56b-4b28-ad61-005b999e740a",
   "metadata": {},
   "outputs": [],
   "source": [
    "# LinearRegression(copy_X=True,fit_intercept=True,n_jobs=None)"
   ]
  },
  {
   "cell_type": "code",
   "execution_count": 76,
   "id": "eca0cd93-2b8f-4a6c-ab5a-3401a78323b3",
   "metadata": {},
   "outputs": [],
   "source": [
    "y_pred = lr.predict(X_test)"
   ]
  },
  {
   "cell_type": "code",
   "execution_count": 78,
   "id": "7cad131d-6831-4981-81dc-f51f830ad3b9",
   "metadata": {},
   "outputs": [
    {
     "name": "stdout",
     "output_type": "stream",
     "text": [
      "MAE 30.51583866342184\n",
      "MSE 1411.4054396356414\n",
      "R2 Score 0.8503282964786979\n"
     ]
    }
   ],
   "source": [
    "print('MAE', mean_absolute_error(y_test,y_pred))\n",
    "print('MSE', mean_squared_error(y_test,y_pred))\n",
    "print('R2 Score', r2_score(y_test,y_pred))"
   ]
  },
  {
   "cell_type": "markdown",
   "id": "06b7764c-4195-4945-b04a-ca9f8135abbb",
   "metadata": {},
   "source": [
    "# 3D Regression Line Visualization"
   ]
  },
  {
   "cell_type": "code",
   "execution_count": 83,
   "id": "d3ecf7c9-5292-483c-ba1d-98f2675d5e14",
   "metadata": {},
   "outputs": [],
   "source": [
    "x = np.linspace(-5, 5, 10)\n",
    "\n",
    "y = np.linspace(-5, 5, 10)\n",
    "\n",
    "xGrid, yGrid = np.meshgrid(y, x)\n",
    "\n",
    "final = np.vstack((xGrid.ravel().reshape(1,100),yGrid.ravel().reshape(1,100))).T\n",
    "\n",
    "z_final = lr.predict(final).reshape(10,10)\n",
    "\n",
    "z = z_final"
   ]
  },
  {
   "cell_type": "code",
   "execution_count": 85,
   "id": "ad3e4ad6-1b21-4e17-b060-3fdbcaece6ca",
   "metadata": {},
   "outputs": [
    {
     "data": {
      "application/vnd.plotly.v1+json": {
       "config": {
        "plotlyServerURL": "https://plot.ly"
       },
       "data": [
        {
         "hovertemplate": "feature1=%{x}<br>feature2=%{y}<br>target=%{z}<extra></extra>",
         "legendgroup": "",
         "marker": {
          "color": "#636efa",
          "symbol": "circle"
         },
         "mode": "markers",
         "name": "",
         "scene": "scene",
         "showlegend": false,
         "type": "scatter3d",
         "x": [
          -1.8456946248755142,
          -0.19309608868910158,
          -0.9156669407426355,
          0.14881690864574637,
          -0.3596079959685635,
          0.2697634069640577,
          -0.7819440698102297,
          1.3472012451211706,
          -1.0147194742901735,
          -1.2556022529082158,
          -1.9466904730976333,
          -2.2962909801161424,
          -0.2317039099007369,
          -0.015060625708585126,
          -1.0156778693779822,
          -0.8471328186744765,
          1.0778442803968478,
          -1.3147657274831284,
          -2.72205969432374,
          -0.735510790565516,
          0.516982141020762,
          -1.3086571341113429,
          0.4647219699116142,
          0.36960477457848634,
          0.6110631129258204,
          -0.7932184530464367,
          0.1714281381559956,
          -0.31148989831100016,
          0.6984876282027479,
          0.4506028023364074,
          -1.6153376659150938,
          0.45685983318883716,
          -0.0853231150064832,
          0.37973563349888584,
          -0.3373504713074844,
          -0.2074589445936436,
          0.1286623713585328,
          -0.5132031251863796,
          0.9151748200663002,
          1.5313420839899783,
          -1.8862185409809564,
          -2.332639480035969,
          -2.6874078728380857,
          0.6642607563597568,
          -0.149873196031015,
          -0.5944951679098365,
          1.732378366230447,
          -2.296697711726216,
          0.3973571081084265,
          1.070578446166814,
          -0.3714215773744206,
          0.6153530892979763,
          0.44584886622541575,
          -0.5268430922016197,
          0.4513230062347911,
          -1.675381500892662,
          -0.6132918721841734,
          1.2240229614856464,
          -1.9466147284517512,
          0.833423226384621,
          -0.21777746845519336,
          0.01670608222624324,
          -0.8215079448474607,
          1.1904964501981694,
          -0.642912504597374,
          0.07465800809876229,
          -0.9076455897001194,
          -0.5889378537724718,
          -1.1028993758423866,
          0.013140273708426305,
          0.3383668415697286,
          -0.8946341886018743,
          -2.1053109275290587,
          -0.21080130080145063,
          0.21944164381589687,
          0.7907802976739802,
          0.056463779670752286,
          -0.1262444409874152,
          -0.7780849272772562,
          0.7500906846823567,
          -0.5799563543984302,
          -1.372000351549439,
          0.34584253793079306,
          1.6079150769012633,
          -1.8977467304659938,
          -1.387129541030016,
          0.12241784581303268,
          -0.25575633060307223,
          -0.26035301626883817,
          -0.2503903597442384,
          0.3097938377449125,
          -0.4037059106665902,
          -0.4702207726524023,
          -0.1760835797351542,
          1.4246339552789045,
          0.4188368243748251,
          0.33744610074755954,
          1.936929739712266,
          1.0595712013558982,
          -0.7675273031180253
         ],
         "y": [
          -0.043111548659338896,
          1.3775838845375457,
          -0.5412016949747466,
          -0.6493637410531858,
          -0.29278574191779483,
          0.34995644193708864,
          0.270048897218681,
          -0.025430871337359665,
          0.9134541367248624,
          1.0033228674066472,
          0.8166646630851431,
          -0.10841458602085711,
          -1.0096120634986803,
          1.2069252843528542,
          -0.3544243276096087,
          1.5113697032843407,
          1.175074915715877,
          -1.0711900618702652,
          -0.25104654381449365,
          0.1105207311864696,
          0.9698398318634562,
          0.5711398264622528,
          0.8053859429958115,
          -0.6302301843364421,
          0.22981469725255435,
          0.4756997402728118,
          0.22520047952402886,
          -2.435069224101573,
          -0.14458806352864995,
          1.2227823017407826,
          0.6286390033551432,
          -0.06914069933761466,
          -1.62151756537282,
          -0.7063760694617414,
          -0.37154608133254097,
          0.30044878318236684,
          -1.0637292713285798,
          -0.5917740072595331,
          -0.06257014099538072,
          -0.389140545237311,
          0.46807357686027334,
          -0.11637725391109904,
          -1.186749652819054,
          0.6699291014706767,
          -0.3346736256267089,
          -0.918862096253567,
          -1.039756932419341,
          0.1174672170423864,
          0.7292378493834545,
          1.1690606441535256,
          -1.4178814561061082,
          0.4351338032777465,
          0.6039669074510308,
          0.05290227219226236,
          -0.9990083371213845,
          -0.36293239323413196,
          -0.5013674055243813,
          -1.0629629973159769,
          0.027531478656581905,
          -3.132852002941739,
          0.41219567531827855,
          -0.055354449615901004,
          0.05214047547258642,
          0.894969031977573,
          0.09912259983238317,
          -0.34927755506313896,
          -1.125130566431253,
          0.16526330141207676,
          -0.47823897438673113,
          -1.498967602226194,
          -0.09229639932599573,
          2.4948549605480403,
          1.0881144136392078,
          -0.6590615693495824,
          -1.2482084674407312,
          0.032559845555377366,
          -0.35784524805815754,
          -0.7498181347081354,
          0.7427017525074329,
          -0.8505230470964052,
          -0.7417294985490399,
          -0.3246850310394491,
          -1.1168547357108598,
          0.7909361446010553,
          2.310614067080067,
          0.6993597674538927,
          -2.656936275524522,
          -0.012825144184356648,
          -0.2211083891781959,
          -0.9603560812472489,
          -0.899341475386399,
          -0.20369683863355054,
          1.3873219148786704,
          1.290767236495156,
          0.5670085995801293,
          0.32130173668147705,
          -1.7763777422034164,
          -1.4200007694569796,
          -0.2691570566472565,
          0.6531692161988709
         ],
         "z": [
          -61.334165957950596,
          65.35198356356742,
          -59.32082093133427,
          -76.50392011007968,
          -50.28871400355719,
          28.07371220235149,
          -29.358369423265614,
          55.851671688567876,
          88.28023001064768,
          94.4949046078713,
          -51.41938446206042,
          -132.6503454108315,
          -54.35865850570718,
          65.51327800730444,
          -112.13269291951089,
          115.44438527427737,
          53.93493735538476,
          -117.86525512719192,
          -73.05274152764216,
          -43.10786254185391,
          51.846426781480375,
          -23.399373758054935,
          59.14132755557228,
          8.267246334266659,
          83.02951063721744,
          72.13292814329802,
          86.46294009925052,
          -122.24019372223131,
          15.740420752772174,
          142.3069299662079,
          114.40663951872558,
          -38.57461982764775,
          -84.73981080671314,
          -39.9521032355324,
          -14.09725267851352,
          57.24686868329475,
          -75.24254981224662,
          -0.07598482599811263,
          21.758153045166043,
          25.89169655235319,
          13.366917748013213,
          -66.39445956476735,
          -148.47420679739443,
          121.54036077039768,
          -86.73150721618728,
          -69.04693466522943,
          57.82774577406453,
          -50.132868616798376,
          20.21309285129172,
          44.63967522582926,
          -91.8761261017863,
          70.69910657579547,
          161.04518833604047,
          59.684408039484914,
          3.9435556849726794,
          14.253227361946486,
          -61.32161156589264,
          -47.48480981291403,
          10.188600347194068,
          -218.00024062416765,
          48.321114015627835,
          -14.245029881831892,
          -60.37645766187241,
          85.43622457179761,
          50.373597726529,
          -5.742336739226637,
          -150.85782886156318,
          41.29254840597552,
          -63.95755562275673,
          -154.6468510492558,
          13.053107452977123,
          127.11902351771106,
          64.85529846986562,
          -137.50665588747034,
          -120.315721887508,
          48.3637379809098,
          40.97503063176613,
          -81.82696137954207,
          56.28451045073111,
          3.5593642548414266,
          -127.96473628203637,
          -89.32652071913718,
          -75.58016310363124,
          115.94614958718105,
          152.37901770721794,
          0.13344926228184661,
          -132.00316152927633,
          -41.12078539658504,
          -54.885246422092244,
          -100.78574850369496,
          -49.727639069475984,
          22.63436227318549,
          87.6321997694801,
          67.52509296978468,
          78.01996674848235,
          -60.72795818528613,
          -106.12861428898299,
          -141.33633777027387,
          42.305253691339296,
          97.39120842288753
         ]
        },
        {
         "type": "surface",
         "x": [
          -5,
          -3.888888888888889,
          -2.7777777777777777,
          -1.6666666666666665,
          -0.5555555555555554,
          0.5555555555555554,
          1.666666666666667,
          2.7777777777777786,
          3.8888888888888893,
          5
         ],
         "y": [
          -5,
          -3.888888888888889,
          -2.7777777777777777,
          -1.6666666666666665,
          -0.5555555555555554,
          0.5555555555555554,
          1.666666666666667,
          2.7777777777777786,
          3.8888888888888893,
          5
         ],
         "z": [
          [
           -471.44748266676754,
           -442.6898379169288,
           -413.9321931670901,
           -385.1745484172513,
           -356.41690366741256,
           -327.6592589175738,
           -298.90161416773503,
           -270.1439694178963,
           -241.38632466805754,
           -212.6286799182188
          ],
          [
           -394.43258807870853,
           -365.6749433288698,
           -336.91729857903107,
           -308.1596538291923,
           -279.40200907935355,
           -250.6443643295148,
           -221.88671957967603,
           -193.12907482983726,
           -164.37143007999853,
           -135.6137853301598
          ],
          [
           -317.4176934906495,
           -288.66004874081074,
           -259.902403990972,
           -231.14475924113324,
           -202.38711449129448,
           -173.62946974145575,
           -144.871824991617,
           -116.11418024177823,
           -87.3565354919395,
           -58.598890742100764
          ],
          [
           -240.40279890259043,
           -211.6451541527517,
           -182.88750940291294,
           -154.1298646530742,
           -125.37221990323545,
           -96.61457515339671,
           -67.85693040355795,
           -39.0992856537192,
           -10.341640903880464,
           18.416003845958272
          ],
          [
           -163.3879043145314,
           -134.63025956469266,
           -105.8726148148539,
           -77.11497006501517,
           -48.35732531517642,
           -19.59968056533768,
           9.157964184501076,
           37.915608934339836,
           66.67325368417858,
           95.43089843401731
          ],
          [
           -86.37300972647239,
           -57.61536497663366,
           -28.85772022679491,
           -0.10007547695616026,
           28.657569272882586,
           57.41521402272132,
           86.17285877256009,
           114.93050352239885,
           143.68814827223758,
           172.44579302207632
          ],
          [
           -9.35811513841334,
           19.399529611425407,
           48.157174361264154,
           76.9148191111029,
           105.67246386094166,
           134.4301086107804,
           163.18775336061915,
           191.94539811045792,
           220.70304286029665,
           249.46068761013538
          ],
          [
           67.65677944964573,
           96.41442419948447,
           125.17206894932323,
           153.92971369916197,
           182.68735844900073,
           211.44500319883946,
           240.20264794867822,
           268.9602926985169,
           297.7179374483557,
           326.47558219819445
          ],
          [
           144.67167403770472,
           173.42931878754345,
           202.1869635373822,
           230.94460828722094,
           259.7022530370597,
           288.4598977868984,
           317.2175425367372,
           345.97518728657593,
           374.73283203641466,
           403.4904767862534
          ],
          [
           221.68656862576373,
           250.44421337560246,
           279.20185812544116,
           307.95950287527995,
           336.7171476251187,
           365.4747923749574,
           394.2324371247962,
           422.99008187463494,
           451.74772662447367,
           480.5053713743124
          ]
         ]
        }
       ],
       "layout": {
        "autosize": true,
        "legend": {
         "tracegroupgap": 0
        },
        "margin": {
         "t": 60
        },
        "scene": {
         "aspectmode": "auto",
         "aspectratio": {
          "x": 1,
          "y": 1,
          "z": 1
         },
         "camera": {
          "center": {
           "x": 0,
           "y": 0,
           "z": 0
          },
          "eye": {
           "x": 0.3522617642206545,
           "y": -0.9357549165471504,
           "z": 0.3803140241448293
          },
          "projection": {
           "type": "perspective"
          },
          "up": {
           "x": 0,
           "y": 0,
           "z": 1
          }
         },
         "domain": {
          "x": [
           0,
           1
          ],
          "y": [
           0,
           1
          ]
         },
         "xaxis": {
          "title": {
           "text": "feature1"
          },
          "type": "linear"
         },
         "yaxis": {
          "title": {
           "text": "feature2"
          },
          "type": "linear"
         },
         "zaxis": {
          "title": {
           "text": "target"
          },
          "type": "linear"
         }
        },
        "template": {
         "data": {
          "bar": [
           {
            "error_x": {
             "color": "#2a3f5f"
            },
            "error_y": {
             "color": "#2a3f5f"
            },
            "marker": {
             "line": {
              "color": "#E5ECF6",
              "width": 0.5
             },
             "pattern": {
              "fillmode": "overlay",
              "size": 10,
              "solidity": 0.2
             }
            },
            "type": "bar"
           }
          ],
          "barpolar": [
           {
            "marker": {
             "line": {
              "color": "#E5ECF6",
              "width": 0.5
             },
             "pattern": {
              "fillmode": "overlay",
              "size": 10,
              "solidity": 0.2
             }
            },
            "type": "barpolar"
           }
          ],
          "carpet": [
           {
            "aaxis": {
             "endlinecolor": "#2a3f5f",
             "gridcolor": "white",
             "linecolor": "white",
             "minorgridcolor": "white",
             "startlinecolor": "#2a3f5f"
            },
            "baxis": {
             "endlinecolor": "#2a3f5f",
             "gridcolor": "white",
             "linecolor": "white",
             "minorgridcolor": "white",
             "startlinecolor": "#2a3f5f"
            },
            "type": "carpet"
           }
          ],
          "choropleth": [
           {
            "colorbar": {
             "outlinewidth": 0,
             "ticks": ""
            },
            "type": "choropleth"
           }
          ],
          "contour": [
           {
            "colorbar": {
             "outlinewidth": 0,
             "ticks": ""
            },
            "colorscale": [
             [
              0,
              "#0d0887"
             ],
             [
              0.1111111111111111,
              "#46039f"
             ],
             [
              0.2222222222222222,
              "#7201a8"
             ],
             [
              0.3333333333333333,
              "#9c179e"
             ],
             [
              0.4444444444444444,
              "#bd3786"
             ],
             [
              0.5555555555555556,
              "#d8576b"
             ],
             [
              0.6666666666666666,
              "#ed7953"
             ],
             [
              0.7777777777777778,
              "#fb9f3a"
             ],
             [
              0.8888888888888888,
              "#fdca26"
             ],
             [
              1,
              "#f0f921"
             ]
            ],
            "type": "contour"
           }
          ],
          "contourcarpet": [
           {
            "colorbar": {
             "outlinewidth": 0,
             "ticks": ""
            },
            "type": "contourcarpet"
           }
          ],
          "heatmap": [
           {
            "colorbar": {
             "outlinewidth": 0,
             "ticks": ""
            },
            "colorscale": [
             [
              0,
              "#0d0887"
             ],
             [
              0.1111111111111111,
              "#46039f"
             ],
             [
              0.2222222222222222,
              "#7201a8"
             ],
             [
              0.3333333333333333,
              "#9c179e"
             ],
             [
              0.4444444444444444,
              "#bd3786"
             ],
             [
              0.5555555555555556,
              "#d8576b"
             ],
             [
              0.6666666666666666,
              "#ed7953"
             ],
             [
              0.7777777777777778,
              "#fb9f3a"
             ],
             [
              0.8888888888888888,
              "#fdca26"
             ],
             [
              1,
              "#f0f921"
             ]
            ],
            "type": "heatmap"
           }
          ],
          "heatmapgl": [
           {
            "colorbar": {
             "outlinewidth": 0,
             "ticks": ""
            },
            "colorscale": [
             [
              0,
              "#0d0887"
             ],
             [
              0.1111111111111111,
              "#46039f"
             ],
             [
              0.2222222222222222,
              "#7201a8"
             ],
             [
              0.3333333333333333,
              "#9c179e"
             ],
             [
              0.4444444444444444,
              "#bd3786"
             ],
             [
              0.5555555555555556,
              "#d8576b"
             ],
             [
              0.6666666666666666,
              "#ed7953"
             ],
             [
              0.7777777777777778,
              "#fb9f3a"
             ],
             [
              0.8888888888888888,
              "#fdca26"
             ],
             [
              1,
              "#f0f921"
             ]
            ],
            "type": "heatmapgl"
           }
          ],
          "histogram": [
           {
            "marker": {
             "pattern": {
              "fillmode": "overlay",
              "size": 10,
              "solidity": 0.2
             }
            },
            "type": "histogram"
           }
          ],
          "histogram2d": [
           {
            "colorbar": {
             "outlinewidth": 0,
             "ticks": ""
            },
            "colorscale": [
             [
              0,
              "#0d0887"
             ],
             [
              0.1111111111111111,
              "#46039f"
             ],
             [
              0.2222222222222222,
              "#7201a8"
             ],
             [
              0.3333333333333333,
              "#9c179e"
             ],
             [
              0.4444444444444444,
              "#bd3786"
             ],
             [
              0.5555555555555556,
              "#d8576b"
             ],
             [
              0.6666666666666666,
              "#ed7953"
             ],
             [
              0.7777777777777778,
              "#fb9f3a"
             ],
             [
              0.8888888888888888,
              "#fdca26"
             ],
             [
              1,
              "#f0f921"
             ]
            ],
            "type": "histogram2d"
           }
          ],
          "histogram2dcontour": [
           {
            "colorbar": {
             "outlinewidth": 0,
             "ticks": ""
            },
            "colorscale": [
             [
              0,
              "#0d0887"
             ],
             [
              0.1111111111111111,
              "#46039f"
             ],
             [
              0.2222222222222222,
              "#7201a8"
             ],
             [
              0.3333333333333333,
              "#9c179e"
             ],
             [
              0.4444444444444444,
              "#bd3786"
             ],
             [
              0.5555555555555556,
              "#d8576b"
             ],
             [
              0.6666666666666666,
              "#ed7953"
             ],
             [
              0.7777777777777778,
              "#fb9f3a"
             ],
             [
              0.8888888888888888,
              "#fdca26"
             ],
             [
              1,
              "#f0f921"
             ]
            ],
            "type": "histogram2dcontour"
           }
          ],
          "mesh3d": [
           {
            "colorbar": {
             "outlinewidth": 0,
             "ticks": ""
            },
            "type": "mesh3d"
           }
          ],
          "parcoords": [
           {
            "line": {
             "colorbar": {
              "outlinewidth": 0,
              "ticks": ""
             }
            },
            "type": "parcoords"
           }
          ],
          "pie": [
           {
            "automargin": true,
            "type": "pie"
           }
          ],
          "scatter": [
           {
            "fillpattern": {
             "fillmode": "overlay",
             "size": 10,
             "solidity": 0.2
            },
            "type": "scatter"
           }
          ],
          "scatter3d": [
           {
            "line": {
             "colorbar": {
              "outlinewidth": 0,
              "ticks": ""
             }
            },
            "marker": {
             "colorbar": {
              "outlinewidth": 0,
              "ticks": ""
             }
            },
            "type": "scatter3d"
           }
          ],
          "scattercarpet": [
           {
            "marker": {
             "colorbar": {
              "outlinewidth": 0,
              "ticks": ""
             }
            },
            "type": "scattercarpet"
           }
          ],
          "scattergeo": [
           {
            "marker": {
             "colorbar": {
              "outlinewidth": 0,
              "ticks": ""
             }
            },
            "type": "scattergeo"
           }
          ],
          "scattergl": [
           {
            "marker": {
             "colorbar": {
              "outlinewidth": 0,
              "ticks": ""
             }
            },
            "type": "scattergl"
           }
          ],
          "scattermapbox": [
           {
            "marker": {
             "colorbar": {
              "outlinewidth": 0,
              "ticks": ""
             }
            },
            "type": "scattermapbox"
           }
          ],
          "scatterpolar": [
           {
            "marker": {
             "colorbar": {
              "outlinewidth": 0,
              "ticks": ""
             }
            },
            "type": "scatterpolar"
           }
          ],
          "scatterpolargl": [
           {
            "marker": {
             "colorbar": {
              "outlinewidth": 0,
              "ticks": ""
             }
            },
            "type": "scatterpolargl"
           }
          ],
          "scatterternary": [
           {
            "marker": {
             "colorbar": {
              "outlinewidth": 0,
              "ticks": ""
             }
            },
            "type": "scatterternary"
           }
          ],
          "surface": [
           {
            "colorbar": {
             "outlinewidth": 0,
             "ticks": ""
            },
            "colorscale": [
             [
              0,
              "#0d0887"
             ],
             [
              0.1111111111111111,
              "#46039f"
             ],
             [
              0.2222222222222222,
              "#7201a8"
             ],
             [
              0.3333333333333333,
              "#9c179e"
             ],
             [
              0.4444444444444444,
              "#bd3786"
             ],
             [
              0.5555555555555556,
              "#d8576b"
             ],
             [
              0.6666666666666666,
              "#ed7953"
             ],
             [
              0.7777777777777778,
              "#fb9f3a"
             ],
             [
              0.8888888888888888,
              "#fdca26"
             ],
             [
              1,
              "#f0f921"
             ]
            ],
            "type": "surface"
           }
          ],
          "table": [
           {
            "cells": {
             "fill": {
              "color": "#EBF0F8"
             },
             "line": {
              "color": "white"
             }
            },
            "header": {
             "fill": {
              "color": "#C8D4E3"
             },
             "line": {
              "color": "white"
             }
            },
            "type": "table"
           }
          ]
         },
         "layout": {
          "annotationdefaults": {
           "arrowcolor": "#2a3f5f",
           "arrowhead": 0,
           "arrowwidth": 1
          },
          "autotypenumbers": "strict",
          "coloraxis": {
           "colorbar": {
            "outlinewidth": 0,
            "ticks": ""
           }
          },
          "colorscale": {
           "diverging": [
            [
             0,
             "#8e0152"
            ],
            [
             0.1,
             "#c51b7d"
            ],
            [
             0.2,
             "#de77ae"
            ],
            [
             0.3,
             "#f1b6da"
            ],
            [
             0.4,
             "#fde0ef"
            ],
            [
             0.5,
             "#f7f7f7"
            ],
            [
             0.6,
             "#e6f5d0"
            ],
            [
             0.7,
             "#b8e186"
            ],
            [
             0.8,
             "#7fbc41"
            ],
            [
             0.9,
             "#4d9221"
            ],
            [
             1,
             "#276419"
            ]
           ],
           "sequential": [
            [
             0,
             "#0d0887"
            ],
            [
             0.1111111111111111,
             "#46039f"
            ],
            [
             0.2222222222222222,
             "#7201a8"
            ],
            [
             0.3333333333333333,
             "#9c179e"
            ],
            [
             0.4444444444444444,
             "#bd3786"
            ],
            [
             0.5555555555555556,
             "#d8576b"
            ],
            [
             0.6666666666666666,
             "#ed7953"
            ],
            [
             0.7777777777777778,
             "#fb9f3a"
            ],
            [
             0.8888888888888888,
             "#fdca26"
            ],
            [
             1,
             "#f0f921"
            ]
           ],
           "sequentialminus": [
            [
             0,
             "#0d0887"
            ],
            [
             0.1111111111111111,
             "#46039f"
            ],
            [
             0.2222222222222222,
             "#7201a8"
            ],
            [
             0.3333333333333333,
             "#9c179e"
            ],
            [
             0.4444444444444444,
             "#bd3786"
            ],
            [
             0.5555555555555556,
             "#d8576b"
            ],
            [
             0.6666666666666666,
             "#ed7953"
            ],
            [
             0.7777777777777778,
             "#fb9f3a"
            ],
            [
             0.8888888888888888,
             "#fdca26"
            ],
            [
             1,
             "#f0f921"
            ]
           ]
          },
          "colorway": [
           "#636efa",
           "#EF553B",
           "#00cc96",
           "#ab63fa",
           "#FFA15A",
           "#19d3f3",
           "#FF6692",
           "#B6E880",
           "#FF97FF",
           "#FECB52"
          ],
          "font": {
           "color": "#2a3f5f"
          },
          "geo": {
           "bgcolor": "white",
           "lakecolor": "white",
           "landcolor": "#E5ECF6",
           "showlakes": true,
           "showland": true,
           "subunitcolor": "white"
          },
          "hoverlabel": {
           "align": "left"
          },
          "hovermode": "closest",
          "mapbox": {
           "style": "light"
          },
          "paper_bgcolor": "white",
          "plot_bgcolor": "#E5ECF6",
          "polar": {
           "angularaxis": {
            "gridcolor": "white",
            "linecolor": "white",
            "ticks": ""
           },
           "bgcolor": "#E5ECF6",
           "radialaxis": {
            "gridcolor": "white",
            "linecolor": "white",
            "ticks": ""
           }
          },
          "scene": {
           "xaxis": {
            "backgroundcolor": "#E5ECF6",
            "gridcolor": "white",
            "gridwidth": 2,
            "linecolor": "white",
            "showbackground": true,
            "ticks": "",
            "zerolinecolor": "white"
           },
           "yaxis": {
            "backgroundcolor": "#E5ECF6",
            "gridcolor": "white",
            "gridwidth": 2,
            "linecolor": "white",
            "showbackground": true,
            "ticks": "",
            "zerolinecolor": "white"
           },
           "zaxis": {
            "backgroundcolor": "#E5ECF6",
            "gridcolor": "white",
            "gridwidth": 2,
            "linecolor": "white",
            "showbackground": true,
            "ticks": "",
            "zerolinecolor": "white"
           }
          },
          "shapedefaults": {
           "line": {
            "color": "#2a3f5f"
           }
          },
          "ternary": {
           "aaxis": {
            "gridcolor": "white",
            "linecolor": "white",
            "ticks": ""
           },
           "baxis": {
            "gridcolor": "white",
            "linecolor": "white",
            "ticks": ""
           },
           "bgcolor": "#E5ECF6",
           "caxis": {
            "gridcolor": "white",
            "linecolor": "white",
            "ticks": ""
           }
          },
          "title": {
           "x": 0.05
          },
          "xaxis": {
           "automargin": true,
           "gridcolor": "white",
           "linecolor": "white",
           "ticks": "",
           "title": {
            "standoff": 15
           },
           "zerolinecolor": "white",
           "zerolinewidth": 2
          },
          "yaxis": {
           "automargin": true,
           "gridcolor": "white",
           "linecolor": "white",
           "ticks": "",
           "title": {
            "standoff": 15
           },
           "zerolinecolor": "white",
           "zerolinewidth": 2
          }
         }
        }
       }
      },
      "image/png": "[encoded data removed]",
      "text/html": [
       "<div>                            <div id=\"c6671743-53d4-4ade-8f8a-a32a35405fb2\" class=\"plotly-graph-div\" style=\"height:525px; width:100%;\"></div>            <script type=\"text/javascript\">                require([\"plotly\"], function(Plotly) {                    window.PLOTLYENV=window.PLOTLYENV || {};                                    if (document.getElementById(\"c6671743-53d4-4ade-8f8a-a32a35405fb2\")) {                    Plotly.newPlot(                        \"c6671743-53d4-4ade-8f8a-a32a35405fb2\",                        [{\"hovertemplate\":\"feature1=%{x}<br>feature2=%{y}<br>target=%{z}<extra></extra>\",\"legendgroup\":\"\",\"marker\":{\"color\":\"#636efa\",\"symbol\":\"circle\"},\"mode\":\"markers\",\"name\":\"\",\"scene\":\"scene\",\"showlegend\":false,\"x\":[-1.8456946248755142,-0.19309608868910158,-0.9156669407426355,0.14881690864574637,-0.3596079959685635,0.2697634069640577,-0.7819440698102297,1.3472012451211706,-1.0147194742901735,-1.2556022529082158,-1.9466904730976333,-2.2962909801161424,-0.2317039099007369,-0.015060625708585126,-1.0156778693779822,-0.8471328186744765,1.0778442803968478,-1.3147657274831284,-2.72205969432374,-0.735510790565516,0.516982141020762,-1.3086571341113429,0.4647219699116142,0.36960477457848634,0.6110631129258204,-0.7932184530464367,0.1714281381559956,-0.31148989831100016,0.6984876282027479,0.4506028023364074,-1.6153376659150938,0.45685983318883716,-0.0853231150064832,0.37973563349888584,-0.3373504713074844,-0.2074589445936436,0.1286623713585328,-0.5132031251863796,0.9151748200663002,1.5313420839899783,-1.8862185409809564,-2.332639480035969,-2.6874078728380857,0.6642607563597568,-0.149873196031015,-0.5944951679098365,1.732378366230447,-2.296697711726216,0.3973571081084265,1.070578446166814,-0.3714215773744206,0.6153530892979763,0.44584886622541575,-0.5268430922016197,0.4513230062347911,-1.675381500892662,-0.6132918721841734,1.2240229614856464,-1.9466147284517512,0.833423226384621,-0.21777746845519336,0.01670608222624324,-0.8215079448474607,1.1904964501981694,-0.642912504597374,0.07465800809876229,-0.9076455897001194,-0.5889378537724718,-1.1028993758423866,0.013140273708426305,0.3383668415697286,-0.8946341886018743,-2.1053109275290587,-0.21080130080145063,0.21944164381589687,0.7907802976739802,0.056463779670752286,-0.1262444409874152,-0.7780849272772562,0.7500906846823567,-0.5799563543984302,-1.372000351549439,0.34584253793079306,1.6079150769012633,-1.8977467304659938,-1.387129541030016,0.12241784581303268,-0.25575633060307223,-0.26035301626883817,-0.2503903597442384,0.3097938377449125,-0.4037059106665902,-0.4702207726524023,-0.1760835797351542,1.4246339552789045,0.4188368243748251,0.33744610074755954,1.936929739712266,1.0595712013558982,-0.7675273031180253],\"y\":[-0.043111548659338896,1.3775838845375457,-0.5412016949747466,-0.6493637410531858,-0.29278574191779483,0.34995644193708864,0.270048897218681,-0.025430871337359665,0.9134541367248624,1.0033228674066472,0.8166646630851431,-0.10841458602085711,-1.0096120634986803,1.2069252843528542,-0.3544243276096087,1.5113697032843407,1.175074915715877,-1.0711900618702652,-0.25104654381449365,0.1105207311864696,0.9698398318634562,0.5711398264622528,0.8053859429958115,-0.6302301843364421,0.22981469725255435,0.4756997402728118,0.22520047952402886,-2.435069224101573,-0.14458806352864995,1.2227823017407826,0.6286390033551432,-0.06914069933761466,-1.62151756537282,-0.7063760694617414,-0.37154608133254097,0.30044878318236684,-1.0637292713285798,-0.5917740072595331,-0.06257014099538072,-0.389140545237311,0.46807357686027334,-0.11637725391109904,-1.186749652819054,0.6699291014706767,-0.3346736256267089,-0.918862096253567,-1.039756932419341,0.1174672170423864,0.7292378493834545,1.1690606441535256,-1.4178814561061082,0.4351338032777465,0.6039669074510308,0.05290227219226236,-0.9990083371213845,-0.36293239323413196,-0.5013674055243813,-1.0629629973159769,0.027531478656581905,-3.132852002941739,0.41219567531827855,-0.055354449615901004,0.05214047547258642,0.894969031977573,0.09912259983238317,-0.34927755506313896,-1.125130566431253,0.16526330141207676,-0.47823897438673113,-1.498967602226194,-0.09229639932599573,2.4948549605480403,1.0881144136392078,-0.6590615693495824,-1.2482084674407312,0.032559845555377366,-0.35784524805815754,-0.7498181347081354,0.7427017525074329,-0.8505230470964052,-0.7417294985490399,-0.3246850310394491,-1.1168547357108598,0.7909361446010553,2.310614067080067,0.6993597674538927,-2.656936275524522,-0.012825144184356648,-0.2211083891781959,-0.9603560812472489,-0.899341475386399,-0.20369683863355054,1.3873219148786704,1.290767236495156,0.5670085995801293,0.32130173668147705,-1.7763777422034164,-1.4200007694569796,-0.2691570566472565,0.6531692161988709],\"z\":[-61.334165957950596,65.35198356356742,-59.32082093133427,-76.50392011007968,-50.28871400355719,28.07371220235149,-29.358369423265614,55.851671688567876,88.28023001064768,94.4949046078713,-51.41938446206042,-132.6503454108315,-54.35865850570718,65.51327800730444,-112.13269291951089,115.44438527427737,53.93493735538476,-117.86525512719192,-73.05274152764216,-43.10786254185391,51.846426781480375,-23.399373758054935,59.14132755557228,8.267246334266659,83.02951063721744,72.13292814329802,86.46294009925052,-122.24019372223131,15.740420752772174,142.3069299662079,114.40663951872558,-38.57461982764775,-84.73981080671314,-39.9521032355324,-14.09725267851352,57.24686868329475,-75.24254981224662,-0.07598482599811263,21.758153045166043,25.89169655235319,13.366917748013213,-66.39445956476735,-148.47420679739443,121.54036077039768,-86.73150721618728,-69.04693466522943,57.82774577406453,-50.132868616798376,20.21309285129172,44.63967522582926,-91.8761261017863,70.69910657579547,161.04518833604047,59.684408039484914,3.9435556849726794,14.253227361946486,-61.32161156589264,-47.48480981291403,10.188600347194068,-218.00024062416765,48.321114015627835,-14.245029881831892,-60.37645766187241,85.43622457179761,50.373597726529,-5.742336739226637,-150.85782886156318,41.29254840597552,-63.95755562275673,-154.6468510492558,13.053107452977123,127.11902351771106,64.85529846986562,-137.50665588747034,-120.315721887508,48.3637379809098,40.97503063176613,-81.82696137954207,56.28451045073111,3.5593642548414266,-127.96473628203637,-89.32652071913718,-75.58016310363124,115.94614958718105,152.37901770721794,0.13344926228184661,-132.00316152927633,-41.12078539658504,-54.885246422092244,-100.78574850369496,-49.727639069475984,22.63436227318549,87.6321997694801,67.52509296978468,78.01996674848235,-60.72795818528613,-106.12861428898299,-141.33633777027387,42.305253691339296,97.39120842288753],\"type\":\"scatter3d\"},{\"x\":[-5.0,-3.888888888888889,-2.7777777777777777,-1.6666666666666665,-0.5555555555555554,0.5555555555555554,1.666666666666667,2.7777777777777786,3.8888888888888893,5.0],\"y\":[-5.0,-3.888888888888889,-2.7777777777777777,-1.6666666666666665,-0.5555555555555554,0.5555555555555554,1.666666666666667,2.7777777777777786,3.8888888888888893,5.0],\"z\":[[-471.44748266676754,-442.6898379169288,-413.9321931670901,-385.1745484172513,-356.41690366741256,-327.6592589175738,-298.90161416773503,-270.1439694178963,-241.38632466805754,-212.6286799182188],[-394.43258807870853,-365.6749433288698,-336.91729857903107,-308.1596538291923,-279.40200907935355,-250.6443643295148,-221.88671957967603,-193.12907482983726,-164.37143007999853,-135.6137853301598],[-317.4176934906495,-288.66004874081074,-259.902403990972,-231.14475924113324,-202.38711449129448,-173.62946974145575,-144.871824991617,-116.11418024177823,-87.3565354919395,-58.598890742100764],[-240.40279890259043,-211.6451541527517,-182.88750940291294,-154.1298646530742,-125.37221990323545,-96.61457515339671,-67.85693040355795,-39.0992856537192,-10.341640903880464,18.416003845958272],[-163.3879043145314,-134.63025956469266,-105.8726148148539,-77.11497006501517,-48.35732531517642,-19.59968056533768,9.157964184501076,37.915608934339836,66.67325368417858,95.43089843401731],[-86.37300972647239,-57.61536497663366,-28.85772022679491,-0.10007547695616026,28.657569272882586,57.41521402272132,86.17285877256009,114.93050352239885,143.68814827223758,172.44579302207632],[-9.35811513841334,19.399529611425407,48.157174361264154,76.9148191111029,105.67246386094166,134.4301086107804,163.18775336061915,191.94539811045792,220.70304286029665,249.46068761013538],[67.65677944964573,96.41442419948447,125.17206894932323,153.92971369916197,182.68735844900073,211.44500319883946,240.20264794867822,268.9602926985169,297.7179374483557,326.47558219819445],[144.67167403770472,173.42931878754345,202.1869635373822,230.94460828722094,259.7022530370597,288.4598977868984,317.2175425367372,345.97518728657593,374.73283203641466,403.4904767862534],[221.68656862576373,250.44421337560246,279.20185812544116,307.95950287527995,336.7171476251187,365.4747923749574,394.2324371247962,422.99008187463494,451.74772662447367,480.5053713743124]],\"type\":\"surface\"}],                        {\"template\":{\"data\":{\"histogram2dcontour\":[{\"type\":\"histogram2dcontour\",\"colorbar\":{\"outlinewidth\":0,\"ticks\":\"\"},\"colorscale\":[[0.0,\"#0d0887\"],[0.1111111111111111,\"#46039f\"],[0.2222222222222222,\"#7201a8\"],[0.3333333333333333,\"#9c179e\"],[0.4444444444444444,\"#bd3786\"],[0.5555555555555556,\"#d8576b\"],[0.6666666666666666,\"#ed7953\"],[0.7777777777777778,\"#fb9f3a\"],[0.8888888888888888,\"#fdca26\"],[1.0,\"#f0f921\"]]}],\"choropleth\":[{\"type\":\"choropleth\",\"colorbar\":{\"outlinewidth\":0,\"ticks\":\"\"}}],\"histogram2d\":[{\"type\":\"histogram2d\",\"colorbar\":{\"outlinewidth\":0,\"ticks\":\"\"},\"colorscale\":[[0.0,\"#0d0887\"],[0.1111111111111111,\"#46039f\"],[0.2222222222222222,\"#7201a8\"],[0.3333333333333333,\"#9c179e\"],[0.4444444444444444,\"#bd3786\"],[0.5555555555555556,\"#d8576b\"],[0.6666666666666666,\"#ed7953\"],[0.7777777777777778,\"#fb9f3a\"],[0.8888888888888888,\"#fdca26\"],[1.0,\"#f0f921\"]]}],\"heatmap\":[{\"type\":\"heatmap\",\"colorbar\":{\"outlinewidth\":0,\"ticks\":\"\"},\"colorscale\":[[0.0,\"#0d0887\"],[0.1111111111111111,\"#46039f\"],[0.2222222222222222,\"#7201a8\"],[0.3333333333333333,\"#9c179e\"],[0.4444444444444444,\"#bd3786\"],[0.5555555555555556,\"#d8576b\"],[0.6666666666666666,\"#ed7953\"],[0.7777777777777778,\"#fb9f3a\"],[0.8888888888888888,\"#fdca26\"],[1.0,\"#f0f921\"]]}],\"heatmapgl\":[{\"type\":\"heatmapgl\",\"colorbar\":{\"outlinewidth\":0,\"ticks\":\"\"},\"colorscale\":[[0.0,\"#0d0887\"],[0.1111111111111111,\"#46039f\"],[0.2222222222222222,\"#7201a8\"],[0.3333333333333333,\"#9c179e\"],[0.4444444444444444,\"#bd3786\"],[0.5555555555555556,\"#d8576b\"],[0.6666666666666666,\"#ed7953\"],[0.7777777777777778,\"#fb9f3a\"],[0.8888888888888888,\"#fdca26\"],[1.0,\"#f0f921\"]]}],\"contourcarpet\":[{\"type\":\"contourcarpet\",\"colorbar\":{\"outlinewidth\":0,\"ticks\":\"\"}}],\"contour\":[{\"type\":\"contour\",\"colorbar\":{\"outlinewidth\":0,\"ticks\":\"\"},\"colorscale\":[[0.0,\"#0d0887\"],[0.1111111111111111,\"#46039f\"],[0.2222222222222222,\"#7201a8\"],[0.3333333333333333,\"#9c179e\"],[0.4444444444444444,\"#bd3786\"],[0.5555555555555556,\"#d8576b\"],[0.6666666666666666,\"#ed7953\"],[0.7777777777777778,\"#fb9f3a\"],[0.8888888888888888,\"#fdca26\"],[1.0,\"#f0f921\"]]}],\"surface\":[{\"type\":\"surface\",\"colorbar\":{\"outlinewidth\":0,\"ticks\":\"\"},\"colorscale\":[[0.0,\"#0d0887\"],[0.1111111111111111,\"#46039f\"],[0.2222222222222222,\"#7201a8\"],[0.3333333333333333,\"#9c179e\"],[0.4444444444444444,\"#bd3786\"],[0.5555555555555556,\"#d8576b\"],[0.6666666666666666,\"#ed7953\"],[0.7777777777777778,\"#fb9f3a\"],[0.8888888888888888,\"#fdca26\"],[1.0,\"#f0f921\"]]}],\"mesh3d\":[{\"type\":\"mesh3d\",\"colorbar\":{\"outlinewidth\":0,\"ticks\":\"\"}}],\"scatter\":[{\"fillpattern\":{\"fillmode\":\"overlay\",\"size\":10,\"solidity\":0.2},\"type\":\"scatter\"}],\"parcoords\":[{\"type\":\"parcoords\",\"line\":{\"colorbar\":{\"outlinewidth\":0,\"ticks\":\"\"}}}],\"scatterpolargl\":[{\"type\":\"scatterpolargl\",\"marker\":{\"colorbar\":{\"outlinewidth\":0,\"ticks\":\"\"}}}],\"bar\":[{\"error_x\":{\"color\":\"#2a3f5f\"},\"error_y\":{\"color\":\"#2a3f5f\"},\"marker\":{\"line\":{\"color\":\"#E5ECF6\",\"width\":0.5},\"pattern\":{\"fillmode\":\"overlay\",\"size\":10,\"solidity\":0.2}},\"type\":\"bar\"}],\"scattergeo\":[{\"type\":\"scattergeo\",\"marker\":{\"colorbar\":{\"outlinewidth\":0,\"ticks\":\"\"}}}],\"scatterpolar\":[{\"type\":\"scatterpolar\",\"marker\":{\"colorbar\":{\"outlinewidth\":0,\"ticks\":\"\"}}}],\"histogram\":[{\"marker\":{\"pattern\":{\"fillmode\":\"overlay\",\"size\":10,\"solidity\":0.2}},\"type\":\"histogram\"}],\"scattergl\":[{\"type\":\"scattergl\",\"marker\":{\"colorbar\":{\"outlinewidth\":0,\"ticks\":\"\"}}}],\"scatter3d\":[{\"type\":\"scatter3d\",\"line\":{\"colorbar\":{\"outlinewidth\":0,\"ticks\":\"\"}},\"marker\":{\"colorbar\":{\"outlinewidth\":0,\"ticks\":\"\"}}}],\"scattermapbox\":[{\"type\":\"scattermapbox\",\"marker\":{\"colorbar\":{\"outlinewidth\":0,\"ticks\":\"\"}}}],\"scatterternary\":[{\"type\":\"scatterternary\",\"marker\":{\"colorbar\":{\"outlinewidth\":0,\"ticks\":\"\"}}}],\"scattercarpet\":[{\"type\":\"scattercarpet\",\"marker\":{\"colorbar\":{\"outlinewidth\":0,\"ticks\":\"\"}}}],\"carpet\":[{\"aaxis\":{\"endlinecolor\":\"#2a3f5f\",\"gridcolor\":\"white\",\"linecolor\":\"white\",\"minorgridcolor\":\"white\",\"startlinecolor\":\"#2a3f5f\"},\"baxis\":{\"endlinecolor\":\"#2a3f5f\",\"gridcolor\":\"white\",\"linecolor\":\"white\",\"minorgridcolor\":\"white\",\"startlinecolor\":\"#2a3f5f\"},\"type\":\"carpet\"}],\"table\":[{\"cells\":{\"fill\":{\"color\":\"#EBF0F8\"},\"line\":{\"color\":\"white\"}},\"header\":{\"fill\":{\"color\":\"#C8D4E3\"},\"line\":{\"color\":\"white\"}},\"type\":\"table\"}],\"barpolar\":[{\"marker\":{\"line\":{\"color\":\"#E5ECF6\",\"width\":0.5},\"pattern\":{\"fillmode\":\"overlay\",\"size\":10,\"solidity\":0.2}},\"type\":\"barpolar\"}],\"pie\":[{\"automargin\":true,\"type\":\"pie\"}]},\"layout\":{\"autotypenumbers\":\"strict\",\"colorway\":[\"#636efa\",\"#EF553B\",\"#00cc96\",\"#ab63fa\",\"#FFA15A\",\"#19d3f3\",\"#FF6692\",\"#B6E880\",\"#FF97FF\",\"#FECB52\"],\"font\":{\"color\":\"#2a3f5f\"},\"hovermode\":\"closest\",\"hoverlabel\":{\"align\":\"left\"},\"paper_bgcolor\":\"white\",\"plot_bgcolor\":\"#E5ECF6\",\"polar\":{\"bgcolor\":\"#E5ECF6\",\"angularaxis\":{\"gridcolor\":\"white\",\"linecolor\":\"white\",\"ticks\":\"\"},\"radialaxis\":{\"gridcolor\":\"white\",\"linecolor\":\"white\",\"ticks\":\"\"}},\"ternary\":{\"bgcolor\":\"#E5ECF6\",\"aaxis\":{\"gridcolor\":\"white\",\"linecolor\":\"white\",\"ticks\":\"\"},\"baxis\":{\"gridcolor\":\"white\",\"linecolor\":\"white\",\"ticks\":\"\"},\"caxis\":{\"gridcolor\":\"white\",\"linecolor\":\"white\",\"ticks\":\"\"}},\"coloraxis\":{\"colorbar\":{\"outlinewidth\":0,\"ticks\":\"\"}},\"colorscale\":{\"sequential\":[[0.0,\"#0d0887\"],[0.1111111111111111,\"#46039f\"],[0.2222222222222222,\"#7201a8\"],[0.3333333333333333,\"#9c179e\"],[0.4444444444444444,\"#bd3786\"],[0.5555555555555556,\"#d8576b\"],[0.6666666666666666,\"#ed7953\"],[0.7777777777777778,\"#fb9f3a\"],[0.8888888888888888,\"#fdca26\"],[1.0,\"#f0f921\"]],\"sequentialminus\":[[0.0,\"#0d0887\"],[0.1111111111111111,\"#46039f\"],[0.2222222222222222,\"#7201a8\"],[0.3333333333333333,\"#9c179e\"],[0.4444444444444444,\"#bd3786\"],[0.5555555555555556,\"#d8576b\"],[0.6666666666666666,\"#ed7953\"],[0.7777777777777778,\"#fb9f3a\"],[0.8888888888888888,\"#fdca26\"],[1.0,\"#f0f921\"]],\"diverging\":[[0,\"#8e0152\"],[0.1,\"#c51b7d\"],[0.2,\"#de77ae\"],[0.3,\"#f1b6da\"],[0.4,\"#fde0ef\"],[0.5,\"#f7f7f7\"],[0.6,\"#e6f5d0\"],[0.7,\"#b8e186\"],[0.8,\"#7fbc41\"],[0.9,\"#4d9221\"],[1,\"#276419\"]]},\"xaxis\":{\"gridcolor\":\"white\",\"linecolor\":\"white\",\"ticks\":\"\",\"title\":{\"standoff\":15},\"zerolinecolor\":\"white\",\"automargin\":true,\"zerolinewidth\":2},\"yaxis\":{\"gridcolor\":\"white\",\"linecolor\":\"white\",\"ticks\":\"\",\"title\":{\"standoff\":15},\"zerolinecolor\":\"white\",\"automargin\":true,\"zerolinewidth\":2},\"scene\":{\"xaxis\":{\"backgroundcolor\":\"#E5ECF6\",\"gridcolor\":\"white\",\"linecolor\":\"white\",\"showbackground\":true,\"ticks\":\"\",\"zerolinecolor\":\"white\",\"gridwidth\":2},\"yaxis\":{\"backgroundcolor\":\"#E5ECF6\",\"gridcolor\":\"white\",\"linecolor\":\"white\",\"showbackground\":true,\"ticks\":\"\",\"zerolinecolor\":\"white\",\"gridwidth\":2},\"zaxis\":{\"backgroundcolor\":\"#E5ECF6\",\"gridcolor\":\"white\",\"linecolor\":\"white\",\"showbackground\":true,\"ticks\":\"\",\"zerolinecolor\":\"white\",\"gridwidth\":2}},\"shapedefaults\":{\"line\":{\"color\":\"#2a3f5f\"}},\"annotationdefaults\":{\"arrowcolor\":\"#2a3f5f\",\"arrowhead\":0,\"arrowwidth\":1},\"geo\":{\"bgcolor\":\"white\",\"landcolor\":\"#E5ECF6\",\"subunitcolor\":\"white\",\"showland\":true,\"showlakes\":true,\"lakecolor\":\"white\"},\"title\":{\"x\":0.05},\"mapbox\":{\"style\":\"light\"}}},\"scene\":{\"domain\":{\"x\":[0.0,1.0],\"y\":[0.0,1.0]},\"xaxis\":{\"title\":{\"text\":\"feature1\"}},\"yaxis\":{\"title\":{\"text\":\"feature2\"}},\"zaxis\":{\"title\":{\"text\":\"target\"}}},\"legend\":{\"tracegroupgap\":0},\"margin\":{\"t\":60}},                        {\"responsive\": true}                    ).then(function(){\n",
       "                            \n",
       "var gd = document.getElementById('c6671743-53d4-4ade-8f8a-a32a35405fb2');\n",
       "var x = new MutationObserver(function (mutations, observer) {{\n",
       "        var display = window.getComputedStyle(gd).display;\n",
       "        if (!display || display === 'none') {{\n",
       "            console.log([gd, 'removed!']);\n",
       "            Plotly.purge(gd);\n",
       "            observer.disconnect();\n",
       "        }}\n",
       "}});\n",
       "\n",
       "// Listen for the removal of the full notebook cells\n",
       "var notebookContainer = gd.closest('#notebook-container');\n",
       "if (notebookContainer) {{\n",
       "    x.observe(notebookContainer, {childList: true});\n",
       "}}\n",
       "\n",
       "// Listen for the clearing of the current output cell\n",
       "var outputEl = gd.closest('.output');\n",
       "if (outputEl) {{\n",
       "    x.observe(outputEl, {childList: true});\n",
       "}}\n",
       "\n",
       "                        })                };                });            </script>        </div>"
      ]
     },
     "metadata": {},
     "output_type": "display_data"
    }
   ],
   "source": [
    "fig = px.scatter_3d(df, x='feature1', y='feature2', z='target')\n",
    "\n",
    "fig.add_trace(go.Surface(x = x, y = y, z =z ))\n",
    "\n",
    "fig.show()"
   ]
  },
  {
   "cell_type": "code",
   "execution_count": 87,
   "id": "7bea127d-6854-455d-9510-1a3167b60094",
   "metadata": {},
   "outputs": [
    {
     "data": {
      "text/plain": [
       "array([25.88188027, 69.31340513])"
      ]
     },
     "execution_count": 87,
     "metadata": {},
     "output_type": "execute_result"
    }
   ],
   "source": [
    "lr.coef_ #first value is x1 and the second value is x2"
   ]
  },
  {
   "cell_type": "code",
   "execution_count": 89,
   "id": "7fcf4528-15c9-4840-99b9-231d875dfd3f",
   "metadata": {},
   "outputs": [
    {
     "data": {
      "text/plain": [
       "4.528944353772452"
      ]
     },
     "execution_count": 89,
     "metadata": {},
     "output_type": "execute_result"
    }
   ],
   "source": [
    "lr.intercept_ # here this is the offset or value of b"
   ]
  },
  {
   "cell_type": "code",
   "execution_count": null,
   "id": "2649ed7a-890a-4f19-b1e9-d15b31e00fd6",
   "metadata": {},
   "outputs": [],
   "source": []
  }
 ],
 "metadata": {
  "kernelspec": {
   "display_name": "Python 3 (ipykernel)",
   "language": "python",
   "name": "python3"
  },
  "language_info": {
   "codemirror_mode": {
    "name": "ipython",
    "version": 3
   },
   "file_extension": ".py",
   "mimetype": "text/x-python",
   "name": "python",
   "nbconvert_exporter": "python",
   "pygments_lexer": "ipython3",
   "version": "3.11.7"
  }
 },
 "nbformat": 4,
 "nbformat_minor": 5
}
